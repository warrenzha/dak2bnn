{
 "cells": [
  {
   "cell_type": "code",
   "id": "initial_id",
   "metadata": {
    "collapsed": true,
    "ExecuteTime": {
     "end_time": "2025-08-25T20:03:37.984612Z",
     "start_time": "2025-08-25T20:03:37.979214Z"
    }
   },
   "source": [
    "import torch\n",
    "import gpytorch\n",
    "from dak.kernels.laplace_kernel import LaplaceProductKernel\n",
    "from dak.utils.sparse_design.design_class import HyperbolicCrossDesign, SparseGridDesign\n",
    "from dak.utils.operators.chol_inv import mk_chol_inv, tmk_chol_inv"
   ],
   "outputs": [],
   "execution_count": 53
  },
  {
   "metadata": {
    "ExecuteTime": {
     "end_time": "2025-08-25T20:03:47.190585Z",
     "start_time": "2025-08-25T20:03:47.184962Z"
    }
   },
   "cell_type": "code",
   "source": [
    "dyadic_design = HyperbolicCrossDesign(dyadic_sort=True, return_neighbors=True)(deg=3, input_lb=0, input_ub=1)\n",
    "chol_inv = mk_chol_inv(\n",
    "    dyadic_design=dyadic_design,\n",
    "    markov_kernel=LaplaceProductKernel(lengthscale=1.),\n",
    "    upper=True)  # [m, m] size tensor\n",
    "design_points = dyadic_design.points.reshape(-1, 1)  # [m, 1] size tensor\n",
    "print(dyadic_design.points)"
   ],
   "id": "687387d6720e26ad",
   "outputs": [
    {
     "name": "stdout",
     "output_type": "stream",
     "text": [
      "tensor([0.5000, 0.2500, 0.7500, 0.1250, 0.3750, 0.6250, 0.8750])\n"
     ]
    }
   ],
   "execution_count": 55
  },
  {
   "metadata": {
    "ExecuteTime": {
     "end_time": "2025-08-25T15:06:18.041640Z",
     "start_time": "2025-08-25T15:06:18.036290Z"
    }
   },
   "cell_type": "code",
   "source": "print(chol_inv.to_dense())",
   "id": "e6b8f80dd7e0e0e3",
   "outputs": [
    {
     "name": "stdout",
     "output_type": "stream",
     "text": [
      "tensor([[ 1.0000, -1.2416, -1.2416,  0.0000, -1.4069, -1.4069,  0.0000],\n",
      "        [ 0.0000,  1.5942,  0.0000, -1.8764, -1.4069,  0.0000,  0.0000],\n",
      "        [ 0.0000,  0.0000,  1.5942,  0.0000,  0.0000, -1.4069, -1.8764],\n",
      "        [ 0.0000,  0.0000,  0.0000,  2.1262,  0.0000,  0.0000,  0.0000],\n",
      "        [ 0.0000,  0.0000,  0.0000,  0.0000,  2.8358,  0.0000,  0.0000],\n",
      "        [ 0.0000,  0.0000,  0.0000,  0.0000,  0.0000,  2.8358,  0.0000],\n",
      "        [ 0.0000,  0.0000,  0.0000,  0.0000,  0.0000,  0.0000,  2.1262]])\n"
     ]
    }
   ],
   "execution_count": 3
  },
  {
   "metadata": {
    "ExecuteTime": {
     "end_time": "2025-08-25T15:06:45.398135Z",
     "start_time": "2025-08-25T15:06:45.393203Z"
    }
   },
   "cell_type": "code",
   "source": [
    "from linear_operator.utils.cholesky import psd_safe_cholesky  # from gpytorch's linear_operator\n",
    "\n",
    "@torch.no_grad()  # drop this if you want gradients through everything\n",
    "def inv_cholesky_transpose(K: torch.Tensor, jitter: float = 1e-6) -> torch.Tensor:\n",
    "    \"\"\"\n",
    "    Returns U = L^{-T}, where K = L L^T (L lower-triangular), so K^{-1} = U U^T.\n",
    "    Works with batched SPD matrices (..., n, n).\n",
    "    \"\"\"\n",
    "    n = K.size(-1)\n",
    "    I = torch.eye(n, dtype=K.dtype, device=K.device)\n",
    "    # Stable Cholesky of K (lower-triangular)\n",
    "    L = psd_safe_cholesky(K, jitter=jitter)  # (..., n, n), lower-triangular\n",
    "    # Solve L^T U = I  ->  U = L^{-T} (upper-triangular)\n",
    "    U = torch.linalg.solve_triangular(L.transpose(-1, -2), I, upper=True)\n",
    "    return U  # U is upper-triangular and K^{-1} = U @ U.transpose(-1, -2)\n",
    "\n",
    "# --- quick check ---\n",
    "# X = torch.randn(128, 3); K = kernel(X, X) + 1e-4*I, etc.\n",
    "# U = inv_cholesky_transpose(K)\n",
    "# err = torch.linalg.norm(K @ (U @ U.T) - torch.eye(K.size(-1), device=K.device))\n",
    "\n",
    "covar = LaplaceProductKernel(lengthscale=1.)(design_points)\n",
    "# K_inv = gpytorch.root_inv_decomposition(covar, method='cholesky').to_dense()\n",
    "# print(K_inv)\n",
    "L_inv_T = inv_cholesky_transpose(covar)\n",
    "print(L_inv_T)"
   ],
   "id": "a20127ad9c6a414d",
   "outputs": [
    {
     "name": "stdout",
     "output_type": "stream",
     "text": [
      "tensor([[ 1.0000e+00, -1.2416e+00, -1.2416e+00, -1.1921e-07, -1.4069e+00,\n",
      "         -1.4069e+00, -2.8689e-07],\n",
      "        [ 0.0000e+00,  1.5942e+00, -1.1309e-08, -1.8764e+00, -1.4069e+00,\n",
      "         -5.1470e-07, -6.6061e-07],\n",
      "        [ 0.0000e+00,  0.0000e+00,  1.5942e+00, -2.6396e-08, -1.6125e-07,\n",
      "         -1.4069e+00, -1.8764e+00],\n",
      "        [ 0.0000e+00,  0.0000e+00,  0.0000e+00,  2.1262e+00, -1.6530e-07,\n",
      "          3.4646e-07,  4.5889e-07],\n",
      "        [ 0.0000e+00,  0.0000e+00,  0.0000e+00,  0.0000e+00,  2.8358e+00,\n",
      "          9.6151e-08,  4.6208e-07],\n",
      "        [ 0.0000e+00,  0.0000e+00,  0.0000e+00,  0.0000e+00,  0.0000e+00,\n",
      "          2.8358e+00, -2.2046e-07],\n",
      "        [ 0.0000e+00,  0.0000e+00,  0.0000e+00,  0.0000e+00,  0.0000e+00,\n",
      "          0.0000e+00,  2.1262e+00]])\n"
     ]
    }
   ],
   "execution_count": 5
  },
  {
   "metadata": {
    "ExecuteTime": {
     "end_time": "2025-08-25T15:07:59.286848Z",
     "start_time": "2025-08-25T15:07:59.283117Z"
    }
   },
   "cell_type": "code",
   "source": [
    "L = chol_inv.to_dense()\n",
    "K_uu_inv = L @ L.T\n",
    "K_uu = K_uu_inv.inverse()\n",
    "print(K_uu)"
   ],
   "id": "cbfb8341653f6398",
   "outputs": [
    {
     "name": "stdout",
     "output_type": "stream",
     "text": [
      "tensor([[1.0000, 0.7788, 0.7788, 0.6873, 0.8825, 0.8825, 0.6873],\n",
      "        [0.7788, 1.0000, 0.6065, 0.8825, 0.8825, 0.6873, 0.5353],\n",
      "        [0.7788, 0.6065, 1.0000, 0.5353, 0.6873, 0.8825, 0.8825],\n",
      "        [0.6873, 0.8825, 0.5353, 1.0000, 0.7788, 0.6065, 0.4724],\n",
      "        [0.8825, 0.8825, 0.6873, 0.7788, 1.0000, 0.7788, 0.6065],\n",
      "        [0.8825, 0.6873, 0.8825, 0.6065, 0.7788, 1.0000, 0.7788],\n",
      "        [0.6873, 0.5353, 0.8825, 0.4724, 0.6065, 0.7788, 1.0000]])\n"
     ]
    }
   ],
   "execution_count": 7
  },
  {
   "metadata": {
    "ExecuteTime": {
     "end_time": "2025-08-25T15:08:08.744961Z",
     "start_time": "2025-08-25T15:08:08.740623Z"
    }
   },
   "cell_type": "code",
   "source": [
    "K_uu_lap = LaplaceProductKernel(lengthscale=1.)(design_points)\n",
    "print(K_uu_lap)"
   ],
   "id": "f02f951aea9de769",
   "outputs": [
    {
     "name": "stdout",
     "output_type": "stream",
     "text": [
      "tensor([[1.0000, 0.7788, 0.7788, 0.6873, 0.8825, 0.8825, 0.6873],\n",
      "        [0.7788, 1.0000, 0.6065, 0.8825, 0.8825, 0.6873, 0.5353],\n",
      "        [0.7788, 0.6065, 1.0000, 0.5353, 0.6873, 0.8825, 0.8825],\n",
      "        [0.6873, 0.8825, 0.5353, 1.0000, 0.7788, 0.6065, 0.4724],\n",
      "        [0.8825, 0.8825, 0.6873, 0.7788, 1.0000, 0.7788, 0.6065],\n",
      "        [0.8825, 0.6873, 0.8825, 0.6065, 0.7788, 1.0000, 0.7788],\n",
      "        [0.6873, 0.5353, 0.8825, 0.4724, 0.6065, 0.7788, 1.0000]])\n"
     ]
    }
   ],
   "execution_count": 8
  },
  {
   "metadata": {
    "ExecuteTime": {
     "end_time": "2025-08-25T15:08:15.391646Z",
     "start_time": "2025-08-25T15:08:15.386765Z"
    }
   },
   "cell_type": "code",
   "source": [
    "x = torch.Tensor([0.35]).unsqueeze(dim=-1)\n",
    "h = LaplaceProductKernel(lengthscale=1.)(x, design_points)\n",
    "out = torch.matmul(h, chol_inv)\n",
    "# y = torch.sparse.mm(chol_inv.T, h.T).T\n",
    "print(out)\n",
    "\n",
    "x = torch.Tensor([0.65]).unsqueeze(dim=-1)\n",
    "h = LaplaceProductKernel(lengthscale=1.)(x, design_points)\n",
    "out = torch.matmul(h, chol_inv)\n",
    "print(out)"
   ],
   "id": "4f2127761eadeab3",
   "outputs": [
    {
     "name": "stdout",
     "output_type": "stream",
     "text": [
      "tensor([[ 8.6071e-01,  3.7387e-01, -1.4539e-07, -5.6704e-09,  2.8185e-01,\n",
      "          2.0832e-07, -3.2482e-08]])\n",
      "tensor([[ 8.6071e-01, -1.4539e-07,  3.7387e-01, -3.2482e-08,  1.3319e-07,\n",
      "          2.8185e-01, -5.6704e-09]])\n"
     ]
    }
   ],
   "execution_count": 9
  },
  {
   "metadata": {
    "ExecuteTime": {
     "end_time": "2025-08-25T17:19:22.537320Z",
     "start_time": "2025-08-25T17:19:22.525792Z"
    }
   },
   "cell_type": "code",
   "source": [
    "def dyadic_nonzero_indices(x: torch.Tensor, L: int) -> torch.LongTensor:\n",
    "    \"\"\"\n",
    "    Return the per-level nonzero column index J_s(x) for each x, under dyadic ordering.\n",
    "    Level 1 is the DC column (index 0).\n",
    "    \"\"\"\n",
    "    assert x.ndim == 1, \"x must be 1D\"\n",
    "    N = x.shape[0]\n",
    "    device = x.device\n",
    "\n",
    "    # powers of two: 2^s for s=1..L\n",
    "    pow2 = torch.pow(2, torch.arange(1, L+1, device=device, dtype=torch.int64))\n",
    "\n",
    "    # k_s = ceil(2^s * x) clamped to [1, 2^s - 1]\n",
    "    ks = torch.ceil(x[:, None] * pow2[None, :].to(x.dtype)).to(torch.int64)  # (N, L)\n",
    "    ks = torch.clamp(ks, min=1)\n",
    "    ks_max = (pow2 - 1)[None, :]  # (1, L)\n",
    "    ks = torch.minimum(ks, ks_max)\n",
    "\n",
    "    # r_s^(odd): force to be odd (right endpoint index made odd)\n",
    "    is_even = (ks & 1) == 0\n",
    "    rs = ks - is_even.to(torch.int64)  # (N, L), odd in {1,3,...,2^s-1}\n",
    "\n",
    "    # position within level s: t_s in {1,...,2^{s-1}}\n",
    "    ts = (rs + 1) // 2  # (N, L)\n",
    "\n",
    "    # offsets: number of columns before level s (0-based indexing)\n",
    "    offsets = (pow2 // 2) - 1  # (L,)\n",
    "\n",
    "    # global 0-based indices: J_s = offset(s) + (t_s - 1)\n",
    "    idx = offsets[None, :] + (ts - 1)  # (N, L)\n",
    "\n",
    "    return idx  # (N, L), long\n",
    "\n",
    "\n",
    "def dyadic_phi_values(x: torch.Tensor, L: int, sigma: float = 1.0, ell_c: float = 1.0):\n",
    "    \"\"\"\n",
    "    Compute the nonzero φ(x) values at the per-level columns (dyadic order).\n",
    "    Returns:\n",
    "      idx:  (N, L) long — nonzero column indices per level (DC is level 1)\n",
    "      vals: (N, L) float — corresponding φ values per level\n",
    "    \"\"\"\n",
    "    assert x.ndim == 1, \"x must be 1D\"\n",
    "    device = x.device\n",
    "    dtype  = x.dtype\n",
    "    N = x.shape[0]\n",
    "\n",
    "    # Indices per level (includes DC at level 1)\n",
    "    idx = dyadic_nonzero_indices(x, L)  # (N, L)\n",
    "\n",
    "    # Preallocate values\n",
    "    vals = torch.zeros((N, L), dtype=dtype, device=device)\n",
    "\n",
    "    # Level 1 (DC): u = 1/2\n",
    "    vals[:, 0] = sigma * torch.exp(-torch.abs(x - 0.5) / ell_c)\n",
    "\n",
    "    # Levels s = 2..L: one active detail column per level\n",
    "    for s in range(2, L+1):\n",
    "        h_s   = 2.0 ** (-s)\n",
    "        rho_s = torch.exp(torch.tensor(-h_s / ell_c, dtype=dtype, device=device))\n",
    "        # rs_odd = odd index computed above; recover it to get left sibling location\n",
    "        # From idx we can recompute r_s: r_s = 2*t_s - 1, and t_s = idx - offset + 1\n",
    "        # But it's simpler to recompute from x: use k_s and rs as in dyadic_nonzero_indices\n",
    "        # Recompute small to keep code clear:\n",
    "        k_s = torch.ceil(x * (2 ** s)).to(torch.int64).clamp(min=1, max=(2 ** s) - 1)\n",
    "        r_s = k_s - ((k_s & 1) == 0).to(torch.int64)  # odd\n",
    "        u_left = r_s.to(dtype) * h_s                  # left sibling location\n",
    "        t_s = x - u_left                              # in [0, h_s]\n",
    "\n",
    "        # φ_s(x) = (2 σ ρ_s / sqrt(1-ρ_s^2)) sinh( t_s / ell_c )\n",
    "        # vals[:, s-1] = (2.0 * sigma * rho_s / torch.sqrt(1.0 - rho_s**2)) * torch.sinh(t_s / ell_c)\n",
    "        vals[:, s-1] = torch.abs((2.0 * sigma * rho_s) * torch.sinh(t_s / ell_c))\n",
    "\n",
    "    return idx, vals\n",
    "\n",
    "\n",
    "def dyadic_phi_dense(x: torch.Tensor, L: int, sigma: float = 1.0, ell_c: float = 1.0):\n",
    "    \"\"\"\n",
    "    Build the full dense row(s) φ(x) of shape (N, m) with zeros elsewhere,\n",
    "    where m = 2^L - 1 and only L entries per row are nonzero.\n",
    "    \"\"\"\n",
    "    idx, vals = dyadic_phi_values(x, L, sigma, ell_c)  # (N, L), (N, L)\n",
    "    N = x.shape[0]\n",
    "    m = (1 << L) - 1\n",
    "    Phi = torch.zeros((N, m), dtype=x.dtype, device=x.device)\n",
    "    rows = torch.arange(N, device=x.device)[:, None].expand_as(idx)  # (N, L)\n",
    "    Phi[rows.reshape(-1), idx.reshape(-1)] = vals.reshape(-1)\n",
    "    return Phi  # (N, m)"
   ],
   "id": "b049eeb0d32a0046",
   "outputs": [],
   "execution_count": 46
  },
  {
   "metadata": {
    "ExecuteTime": {
     "end_time": "2025-08-25T20:15:45.998198Z",
     "start_time": "2025-08-25T20:15:45.994225Z"
    }
   },
   "cell_type": "code",
   "source": [
    "def dyadic_psi(x: torch.Tensor, L: int, sigma: float = 1.0, ell_c: float = 1.0):\n",
    "    \"\"\"\n",
    "    Batched dyadic nonzero indices.\n",
    "\n",
    "    Args\n",
    "    ----\n",
    "    x : (...,) tensor with values in [0, 1].\n",
    "        Works with any number of leading batch dims.\n",
    "    L : int, number of dyadic levels (total columns m = 2^L - 1).\n",
    "\n",
    "    Returns\n",
    "    -------\n",
    "    idx : (..., L) long tensor\n",
    "        0-based global column indices in dyadic order for each level (DC is level 1).\n",
    "        The returned shape matches the leading shape of x, with an extra trailing dim of size L.\n",
    "    \"\"\"\n",
    "    if x.ndim == 0:\n",
    "        x = x.unsqueeze(0)  # promote scalar to shape (1,)\n",
    "    device, dtype = x.device, x.dtype\n",
    "\n",
    "    # 2^s for s=1..L\n",
    "    pow2 = torch.pow(2, torch.arange(1, L+1, device=device, dtype=torch.int64))  # (L,)\n",
    "\n",
    "    # k_s = ceil(2^s * x) clamped to [1, 2^s - 1]\n",
    "    ks = torch.ceil(x[..., None] * pow2.to(x.dtype)).to(torch.int64)  # (..., L)\n",
    "    ks = torch.clamp(ks, min=1)\n",
    "    ks_max = (pow2 - 1)  # (L,)\n",
    "    ks = torch.minimum(ks, ks_max)  # (..., L)\n",
    "\n",
    "    # r_s^(odd): force to be odd (right endpoint index made odd)\n",
    "    # if ks even -> ks-1, else ks\n",
    "    rs = ks - ((ks & 1) == 0).to(torch.int64) # (..., L), odd in {1,3,...,2^s-1}\n",
    "\n",
    "    # position within level s: t_s in {1,...,2^{s-1}}\n",
    "    ts = (rs + 1) // 2  # (..., L)\n",
    "\n",
    "    # offsets: number of columns before level s (0-based indexing)\n",
    "    offsets = (pow2 // 2) - 1  # (L,)\n",
    "\n",
    "    # global 0-based indices: J_s = offset(s) + (t_s - 1)\n",
    "    idx = offsets + (ts - 1)  # (..., L)\n",
    "\n",
    "    u = HyperbolicCrossDesign(dyadic_sort=True, return_neighbors=True)(deg=L, input_lb=0, input_ub=1).points # (2^L-1,)\n",
    "    view_shape = (1,) * x.dim() + (u.shape[0],)      # (1,1,...,1, 2^L-1)\n",
    "    u_selected = torch.gather(u.view(view_shape).expand(*x.shape, -1), dim=-1, index=idx) # (..., L)\n",
    "\n",
    "    delta = torch.abs(x.unsqueeze(-1) - u_selected) # |x - m2^{-l}|\n",
    "    # pow2_f = (1.0 / pow2).view(view_shape).expand(*x.shape, -1)  # (..., L), 2^{-l} for l=1..L\n",
    "    pow2_f = (1.0 / pow2).to(x.dtype)\n",
    "\n",
    "    psi =  torch.sqrt(2 / torch.sinh(pow2_f * 2 * ell_c)) * torch.sinh(ell_c * (pow2_f - delta))\n",
    "\n",
    "    return idx, psi  # (N, L), long\n",
    "\n",
    "    # dyadic_points = HyperbolicCrossDesign(dyadic_sort=True, return_neighbors=True)(deg=L, input_lb=0, input_ub=1).points # [L,]\n",
    "    # selected_points = torch.gather(dyadic_points.expand(N, -1), dim=1, index=idx)  # [N, L]\n",
    "    # delta = torch.abs(x.unsqueeze(-1) - selected_points)  # [N, L]\n",
    "    # pow_half = torch.pow(0.5, torch.arange(1, L + 1, device=device, dtype=torch.float32)).expand(2, -1)\n"
   ],
   "id": "1b0adc3cd6f25010",
   "outputs": [],
   "execution_count": 60
  },
  {
   "metadata": {
    "ExecuteTime": {
     "end_time": "2025-08-25T20:15:51.098196Z",
     "start_time": "2025-08-25T20:15:51.093496Z"
    }
   },
   "cell_type": "code",
   "source": [
    "L = 3\n",
    "x = torch.tensor([0.35, 0.65])  # N=4 points in [0,1]\n",
    "\n",
    "idx = dyadic_nonzero_indices(x, L)\n",
    "print(idx)\n",
    "\n",
    "h = LaplaceProductKernel(lengthscale=1.)(x, design_points)\n",
    "out = torch.matmul(h, chol_inv)\n",
    "print(out)\n",
    "\n",
    "out_selected = torch.gather(out, dim=-1, index=idx)\n",
    "print(out_selected)"
   ],
   "id": "26e471abaf6cc20a",
   "outputs": [
    {
     "name": "stdout",
     "output_type": "stream",
     "text": [
      "tensor([[0, 1, 4],\n",
      "        [0, 2, 5]])\n",
      "tensor([[ 8.6071e-01,  3.7387e-01, -1.4539e-07, -5.6704e-09,  2.8185e-01,\n",
      "          2.0832e-07, -3.2482e-08],\n",
      "        [ 8.6071e-01, -1.4539e-07,  3.7387e-01, -3.2482e-08,  1.3319e-07,\n",
      "          2.8185e-01, -5.6704e-09]])\n",
      "tensor([[0.8607, 0.3739, 0.2818],\n",
      "        [0.8607, 0.3739, 0.2818]])\n"
     ]
    }
   ],
   "execution_count": 61
  },
  {
   "metadata": {
    "ExecuteTime": {
     "end_time": "2025-08-25T20:21:51.746423Z",
     "start_time": "2025-08-25T20:21:51.741661Z"
    }
   },
   "cell_type": "code",
   "source": [
    "x = torch.tensor([[0.35, 0.65], [0.35, 0.65]])\n",
    "idx, psi = dyadic_psi(x, L)\n",
    "print(idx)\n",
    "print(psi)\n",
    "print(psi.shape)"
   ],
   "id": "3332fc1b9f38601f",
   "outputs": [
    {
     "name": "stdout",
     "output_type": "stream",
     "text": [
      "tensor([[[0, 1, 4],\n",
      "         [0, 2, 5]],\n",
      "\n",
      "        [[0, 1, 4],\n",
      "         [0, 2, 5]]])\n",
      "tensor([[[0.4660, 0.2950, 0.2818],\n",
      "         [0.4660, 0.2950, 0.2818]],\n",
      "\n",
      "        [[0.4660, 0.2950, 0.2818],\n",
      "         [0.4660, 0.2950, 0.2818]]])\n",
      "torch.Size([2, 2, 3])\n"
     ]
    }
   ],
   "execution_count": 70
  },
  {
   "metadata": {
    "ExecuteTime": {
     "end_time": "2025-08-25T17:18:19.227604Z",
     "start_time": "2025-08-25T17:18:19.219489Z"
    }
   },
   "cell_type": "code",
   "source": [
    "points = dyadic_design.points.expand(2, -1)\n",
    "print(points)\n",
    "selected_points = torch.gather(points, dim=1, index=idx)\n",
    "print(selected_points)\n",
    "distances = torch.abs(x.unsqueeze(-1) - selected_points)\n",
    "print(distances)\n",
    "\n",
    "k = torch.arange(1, L + 1, dtype=torch.float32)   # 1,2,...,m\n",
    "t = torch.pow(0.5, k).expand(2, -1)                             # [1/2, 1/4, 1/8, ..., 1/2^m]\n",
    "# equivalently: t = 2.0 ** (-k)\n",
    "print(t)\n",
    "\n",
    "pow2 = torch.pow(2, torch.arange(1, L+1, dtype=torch.int64))\n",
    "print((1.0/pow2).expand(2, -1))\n",
    "print(pow2[None,:])"
   ],
   "id": "b1a987a956656c17",
   "outputs": [
    {
     "name": "stdout",
     "output_type": "stream",
     "text": [
      "tensor([[0.5000, 0.2500, 0.7500, 0.1250, 0.3750, 0.6250, 0.8750],\n",
      "        [0.5000, 0.2500, 0.7500, 0.1250, 0.3750, 0.6250, 0.8750]])\n",
      "tensor([[0.5000, 0.2500, 0.3750],\n",
      "        [0.5000, 0.7500, 0.6250]])\n",
      "tensor([[0.1500, 0.1000, 0.0250],\n",
      "        [0.1500, 0.1000, 0.0250]])\n",
      "tensor([[0.5000, 0.2500, 0.1250],\n",
      "        [0.5000, 0.2500, 0.1250]])\n",
      "tensor([[0.5000, 0.2500, 0.1250],\n",
      "        [0.5000, 0.2500, 0.1250]])\n",
      "tensor([[2, 4, 8]])\n"
     ]
    }
   ],
   "execution_count": 41
  },
  {
   "metadata": {
    "ExecuteTime": {
     "end_time": "2025-08-25T15:08:47.585510Z",
     "start_time": "2025-08-25T15:08:47.574476Z"
    }
   },
   "cell_type": "code",
   "outputs": [
    {
     "name": "stdout",
     "output_type": "stream",
     "text": [
      "tensor([[0, 1, 4],\n",
      "        [0, 2, 5]])\n",
      "tensor([[0.8607, 0.1560, 0.0441],\n",
      "        [0.8607, 0.1560, 0.0441]])\n",
      "tensor([[0.8607, 0.1560, 0.0000, 0.0000, 0.0441, 0.0000, 0.0000],\n",
      "        [0.8607, 0.0000, 0.1560, 0.0000, 0.0000, 0.0441, 0.0000]])\n",
      "tensor([[0.8607, 0.1560, 0.0441],\n",
      "        [0.8607, 0.1560, 0.0441]])\n"
     ]
    }
   ],
   "execution_count": 13,
   "source": [
    "L = 3\n",
    "x = torch.tensor([0.35, 0.65])  # N=4 points in [0,1]\n",
    "\n",
    "idx, phi = dyadic_phi_values(x, L)\n",
    "phi_dense = dyadic_phi_dense(x, L)\n",
    "print(idx)\n",
    "print(phi)\n",
    "print(phi_dense)\n",
    "\n",
    "phi_selected = torch.gather(phi_dense, dim=1, index=idx)\n",
    "print(phi_selected)"
   ],
   "id": "9a91aa83330a03db"
  }
 ],
 "metadata": {
  "kernelspec": {
   "display_name": "Python 3",
   "language": "python",
   "name": "python3"
  },
  "language_info": {
   "codemirror_mode": {
    "name": "ipython",
    "version": 2
   },
   "file_extension": ".py",
   "mimetype": "text/x-python",
   "name": "python",
   "nbconvert_exporter": "python",
   "pygments_lexer": "ipython2",
   "version": "2.7.6"
  }
 },
 "nbformat": 4,
 "nbformat_minor": 5
}
