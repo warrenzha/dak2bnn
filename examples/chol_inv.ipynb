{
 "cells": [
  {
   "cell_type": "code",
   "id": "initial_id",
   "metadata": {
    "collapsed": true,
    "ExecuteTime": {
     "end_time": "2025-08-12T15:54:08.654550Z",
     "start_time": "2025-08-12T15:54:07.534606Z"
    }
   },
   "source": [
    "import torch\n",
    "from dak.kernels.laplace_kernel import LaplaceProductKernel\n",
    "from dak.utils.sparse_design.design_class import HyperbolicCrossDesign, SparseGridDesign\n",
    "from dak.utils.operators.chol_inv import mk_chol_inv, tmk_chol_inv"
   ],
   "outputs": [],
   "execution_count": 1
  },
  {
   "metadata": {
    "ExecuteTime": {
     "end_time": "2025-08-12T15:54:12.164323Z",
     "start_time": "2025-08-12T15:54:12.135170Z"
    }
   },
   "cell_type": "code",
   "source": [
    "dyadic_design = HyperbolicCrossDesign(dyadic_sort=True, return_neighbors=True)(deg=2, input_lb=0, input_ub=1)\n",
    "chol_inv = mk_chol_inv(\n",
    "    dyadic_design=dyadic_design,\n",
    "    markov_kernel=LaplaceProductKernel(lengthscale=1.),\n",
    "    upper=True)  # [m, m] size tensor\n",
    "design_points = dyadic_design.points.reshape(-1, 1)  # [m, 1] size tensor"
   ],
   "id": "687387d6720e26ad",
   "outputs": [],
   "execution_count": 2
  },
  {
   "metadata": {
    "ExecuteTime": {
     "end_time": "2025-08-12T15:54:25.592031Z",
     "start_time": "2025-08-12T15:54:25.587595Z"
    }
   },
   "cell_type": "code",
   "source": "print(chol_inv.to_dense())",
   "id": "e6b8f80dd7e0e0e3",
   "outputs": [
    {
     "name": "stdout",
     "output_type": "stream",
     "text": [
      "tensor([[ 1.0000, -1.2416, -1.2416],\n",
      "        [ 0.0000,  1.5942,  0.0000],\n",
      "        [ 0.0000,  0.0000,  1.5942]])\n"
     ]
    }
   ],
   "execution_count": 3
  },
  {
   "metadata": {
    "ExecuteTime": {
     "end_time": "2025-08-12T15:54:31.982260Z",
     "start_time": "2025-08-12T15:54:31.975229Z"
    }
   },
   "cell_type": "code",
   "source": [
    "x = torch.Tensor([0.35]).unsqueeze(dim=-1)\n",
    "h = LaplaceProductKernel(lengthscale=1.)(x, design_points)\n",
    "out = torch.matmul(h, chol_inv)\n",
    "print(h)\n",
    "print(out)\n",
    "\n",
    "x = torch.Tensor([0.65]).unsqueeze(dim=-1)\n",
    "h = LaplaceProductKernel(lengthscale=1.)(x, design_points)\n",
    "out = torch.matmul(h, chol_inv)\n",
    "print(h)\n",
    "print(out)\n",
    "non_zero_indices = torch.nonzero(out, as_tuple=True)\n",
    "print(out[non_zero_indices])"
   ],
   "id": "4f2127761eadeab3",
   "outputs": [
    {
     "name": "stdout",
     "output_type": "stream",
     "text": [
      "tensor([[0.8607, 0.9048, 0.6703]])\n",
      "tensor([[ 8.6071e-01,  3.7387e-01, -1.4539e-07]])\n",
      "tensor([[0.8607, 0.6703, 0.9048]])\n",
      "tensor([[ 8.6071e-01, -1.4539e-07,  3.7387e-01]])\n",
      "tensor([ 8.6071e-01, -1.4539e-07,  3.7387e-01])\n"
     ]
    }
   ],
   "execution_count": 4
  }
 ],
 "metadata": {
  "kernelspec": {
   "display_name": "Python 3",
   "language": "python",
   "name": "python3"
  },
  "language_info": {
   "codemirror_mode": {
    "name": "ipython",
    "version": 2
   },
   "file_extension": ".py",
   "mimetype": "text/x-python",
   "name": "python",
   "nbconvert_exporter": "python",
   "pygments_lexer": "ipython2",
   "version": "2.7.6"
  }
 },
 "nbformat": 4,
 "nbformat_minor": 5
}
