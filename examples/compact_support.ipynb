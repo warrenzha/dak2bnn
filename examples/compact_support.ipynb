{
 "cells": [
  {
   "cell_type": "code",
   "id": "initial_id",
   "metadata": {
    "collapsed": true,
    "ExecuteTime": {
     "end_time": "2025-08-25T21:14:24.702610Z",
     "start_time": "2025-08-25T21:14:24.699763Z"
    }
   },
   "source": [
    "from dak.kernels.laplace_kernel import LaplaceProductKernel\n",
    "from dak.utils.sparse_design.design_class import HyperbolicCrossDesign\n",
    "from dak.utils.operators.chol_inv import mk_chol_inv"
   ],
   "outputs": [],
   "execution_count": 9
  },
  {
   "metadata": {
    "ExecuteTime": {
     "end_time": "2025-08-25T21:14:24.722921Z",
     "start_time": "2025-08-25T21:14:24.719488Z"
    }
   },
   "cell_type": "code",
   "source": [
    "L = 4 # Level-L dyadic grid: m=2^L-1 grid points\n",
    "dyadic_design = HyperbolicCrossDesign(dyadic_sort=True, return_neighbors=True)(deg=L, input_lb=0, input_ub=1)\n",
    "design_points = dyadic_design.points.reshape(-1, 1)  # [m, 1] size tensor\n",
    "print(f'Dyadic sorted design points: {dyadic_design.points}')"
   ],
   "id": "9466ace5ee5803a9",
   "outputs": [
    {
     "name": "stdout",
     "output_type": "stream",
     "text": [
      "Dyadic sorted design points: tensor([0.5000, 0.2500, 0.7500, 0.1250, 0.3750, 0.6250, 0.8750, 0.0625, 0.1875,\n",
      "        0.3125, 0.4375, 0.5625, 0.6875, 0.8125, 0.9375])\n"
     ]
    }
   ],
   "execution_count": 10
  },
  {
   "metadata": {
    "ExecuteTime": {
     "end_time": "2025-08-25T21:14:24.733010Z",
     "start_time": "2025-08-25T21:14:24.731018Z"
    }
   },
   "cell_type": "code",
   "source": [
    "import torch\n",
    "\n",
    "x = torch.tensor([0.35, 0.65])"
   ],
   "id": "7e60f44d9d21a607",
   "outputs": [],
   "execution_count": 11
  },
  {
   "metadata": {
    "ExecuteTime": {
     "end_time": "2025-08-25T21:14:24.751880Z",
     "start_time": "2025-08-25T21:14:24.747694Z"
    }
   },
   "cell_type": "code",
   "source": [
    "# PART 1: Use Cholesky decomposition phi(x) = k(x,U)L^{-T}\n",
    "chol_inv = mk_chol_inv(\n",
    "    dyadic_design=dyadic_design,\n",
    "    markov_kernel=LaplaceProductKernel(lengthscale=1.),\n",
    "    upper=True)  # [m, m] size tensor\n",
    "k_xu = LaplaceProductKernel(lengthscale=1.)(x, design_points)\n",
    "phi = torch.matmul(k_xu, chol_inv)\n",
    "print(f\"x: {x}\")\n",
    "print(f\"phi(x): {phi}\")"
   ],
   "id": "ffdcb75d2c0d762b",
   "outputs": [
    {
     "name": "stdout",
     "output_type": "stream",
     "text": [
      "x: tensor([0.3500, 0.6500])\n",
      "phi(x): tensor([[ 8.6071e-01,  3.7387e-01, -1.4539e-07, -5.6704e-09,  2.8185e-01,\n",
      "          2.0832e-07, -3.2482e-08,  8.6208e-08,  3.4005e-09,  9.9880e-02,\n",
      "         -7.8084e-08, -1.1129e-07,  3.7601e-09, -1.4542e-07,  6.6069e-08],\n",
      "        [ 8.6071e-01, -1.4539e-07,  3.7387e-01, -3.2482e-08,  1.3319e-07,\n",
      "          2.8185e-01, -5.6704e-09,  6.6069e-08,  1.2297e-07, -1.1129e-07,\n",
      "          4.1125e-08, -7.3236e-08,  9.9880e-02, -4.3964e-08,  8.6208e-08]])\n"
     ]
    }
   ],
   "execution_count": 12
  },
  {
   "metadata": {
    "ExecuteTime": {
     "end_time": "2025-08-25T21:14:24.760046Z",
     "start_time": "2025-08-25T21:14:24.756710Z"
    }
   },
   "cell_type": "code",
   "source": [
    "# PART 2: Use compact support and sparse psi\n",
    "def dyadic_psi(x: torch.Tensor, L: int, sigma: float = 1.0, ell_c: float = 1.0):\n",
    "    \"\"\"\n",
    "    Batch-wise dyadic nonzero indices.\n",
    "\n",
    "    Args\n",
    "    ----\n",
    "    x : (...,) tensor with values in [0, 1].\n",
    "        Works with any number of leading batch dims.\n",
    "    L : int, number of dyadic levels (total columns m = 2^L - 1).\n",
    "\n",
    "    Returns\n",
    "    -------\n",
    "    idx : (..., L) long tensor\n",
    "        0-based global column indices in dyadic order for each level (DC is level 1).\n",
    "        The returned shape matches the leading shape of x, with an extra trailing dim of size L.\n",
    "    \"\"\"\n",
    "    if x.ndim == 0:\n",
    "        x = x.unsqueeze(0)  # promote scalar to shape (1,)\n",
    "    device, dtype = x.device, x.dtype\n",
    "\n",
    "    # 2^s for s=1..L\n",
    "    pow2 = torch.pow(2, torch.arange(1, L+1, device=device, dtype=torch.int64))  # (L,)\n",
    "\n",
    "    # k_s = ceil(2^s * x) clamped to [1, 2^s - 1]\n",
    "    ks = torch.ceil(x[..., None] * pow2.to(x.dtype)).to(torch.int64)  # (..., L)\n",
    "    ks = torch.clamp(ks, min=1)\n",
    "    ks_max = (pow2 - 1)  # (L,)\n",
    "    ks = torch.minimum(ks, ks_max)  # (..., L)\n",
    "\n",
    "    # r_s^(odd): force to be odd (right endpoint index made odd)\n",
    "    # if ks even -> ks-1, else ks\n",
    "    rs = ks - ((ks & 1) == 0).to(torch.int64) # (..., L), odd in {1,3,...,2^s-1}\n",
    "\n",
    "    # position within level s: t_s in {1,...,2^{s-1}}\n",
    "    ts = (rs + 1) // 2  # (..., L)\n",
    "\n",
    "    # offsets: number of columns before level s (0-based indexing)\n",
    "    offsets = (pow2 // 2) - 1  # (L,)\n",
    "\n",
    "    # global 0-based indices: J_s = offset(s) + (t_s - 1)\n",
    "    idx = offsets + (ts - 1)  # (..., L)\n",
    "\n",
    "    u = HyperbolicCrossDesign(dyadic_sort=True, return_neighbors=True)(deg=L, input_lb=0, input_ub=1).points # (2^L-1,)\n",
    "    view_shape = (1,) * x.dim() + (u.shape[0],)      # (1,1,...,1, 2^L-1)\n",
    "    u_selected = torch.gather(u.view(view_shape).expand(*x.shape, -1), dim=-1, index=idx) # (..., L)\n",
    "\n",
    "    delta = torch.abs(x.unsqueeze(-1) - u_selected) # |x - m2^{-l}|\n",
    "    # pow2_f = (1.0 / pow2).view(view_shape).expand(*x.shape, -1)  # (..., L), 2^{-l} for l=1..L\n",
    "    pow2_f = (1.0 / pow2).to(x.dtype)\n",
    "\n",
    "    psi =  sigma * torch.sqrt(2 / torch.sinh(pow2_f * 2 * ell_c)) * torch.sinh(ell_c * (pow2_f - delta))\n",
    "\n",
    "    return idx, psi  # (..., L)"
   ],
   "id": "ff22c4153305963c",
   "outputs": [],
   "execution_count": 13
  },
  {
   "metadata": {
    "ExecuteTime": {
     "end_time": "2025-08-25T21:14:24.772554Z",
     "start_time": "2025-08-25T21:14:24.769457Z"
    }
   },
   "cell_type": "code",
   "source": [
    "# Let's find out the non-zero indices using wavelet design\n",
    "# Compared to phi_dense, the selected nonzero indices are correct\n",
    "idx, psi = dyadic_psi(x, L)\n",
    "print(f\"Non-zero idx:\\n {idx}\")\n",
    "phi_nonzero = torch.gather(phi, dim=-1, index=idx)\n",
    "print(f\"Non-zero phi(x):\\n {phi_nonzero}\")\n",
    "print(f\"psi(x):\\n {psi}\")"
   ],
   "id": "232c8570557046fa",
   "outputs": [
    {
     "name": "stdout",
     "output_type": "stream",
     "text": [
      "Non-zero idx:\n",
      " tensor([[ 0,  1,  4,  9],\n",
      "        [ 0,  2,  5, 12]])\n",
      "Non-zero phi(x):\n",
      " tensor([[0.8607, 0.3739, 0.2818, 0.0999],\n",
      "        [0.8607, 0.3739, 0.2818, 0.0999]])\n",
      "psi(x):\n",
      " tensor([[0.4660, 0.2950, 0.2818, 0.0999],\n",
      "        [0.4660, 0.2950, 0.2818, 0.0999]])\n"
     ]
    }
   ],
   "execution_count": 14
  },
  {
   "metadata": {
    "ExecuteTime": {
     "end_time": "2025-08-25T21:14:24.782449Z",
     "start_time": "2025-08-25T21:14:24.779563Z"
    }
   },
   "cell_type": "code",
   "source": [
    "# Then let's verify the batch-wise computing of non-zero indices and psi\n",
    "x = torch.tensor([[0.35, 0.65], [0.65, 0.35]]) # (B, N), batch size=2, feature=2\n",
    "idx, psi = dyadic_psi(x, L)\n",
    "print(f\"Non-zero idx:\\n {idx}\")\n",
    "print(f\"psi(x):\\n {psi}\")\n",
    "print(f\"psi shape: {psi.shape}\")"
   ],
   "id": "9334be0a6a5bf7f1",
   "outputs": [
    {
     "name": "stdout",
     "output_type": "stream",
     "text": [
      "Non-zero idx:\n",
      " tensor([[[ 0,  1,  4,  9],\n",
      "         [ 0,  2,  5, 12]],\n",
      "\n",
      "        [[ 0,  2,  5, 12],\n",
      "         [ 0,  1,  4,  9]]])\n",
      "psi(x):\n",
      " tensor([[[0.4660, 0.2950, 0.2818, 0.0999],\n",
      "         [0.4660, 0.2950, 0.2818, 0.0999]],\n",
      "\n",
      "        [[0.4660, 0.2950, 0.2818, 0.0999],\n",
      "         [0.4660, 0.2950, 0.2818, 0.0999]]])\n",
      "psi shape: torch.Size([2, 2, 4])\n"
     ]
    }
   ],
   "execution_count": 15
  },
  {
   "metadata": {
    "ExecuteTime": {
     "end_time": "2025-08-25T21:14:24.791611Z",
     "start_time": "2025-08-25T21:14:24.790470Z"
    }
   },
   "cell_type": "code",
   "source": "",
   "id": "4c724aaa00a36ceb",
   "outputs": [],
   "execution_count": null
  }
 ],
 "metadata": {
  "kernelspec": {
   "display_name": "Python 3",
   "language": "python",
   "name": "python3"
  },
  "language_info": {
   "codemirror_mode": {
    "name": "ipython",
    "version": 2
   },
   "file_extension": ".py",
   "mimetype": "text/x-python",
   "name": "python",
   "nbconvert_exporter": "python",
   "pygments_lexer": "ipython2",
   "version": "2.7.6"
  }
 },
 "nbformat": 4,
 "nbformat_minor": 5
}
