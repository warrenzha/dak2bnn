{
 "cells": [
  {
   "cell_type": "code",
   "execution_count": 1,
   "metadata": {},
   "outputs": [],
   "source": [
    "import os\n",
    "import sys\n",
    "from pathlib import Path # if you haven't already done so\n",
    "file = Path(os.path.dirname(os.path.abspath(\"__file__\"))).resolve()\n",
    "parent, root = file.parent, file.parents[1]\n",
    "sys.path.append(str(root))\n",
    "\n",
    "import torch\n",
    "from dak.kernels.laplace_kernel import LaplaceProductKernel, LaplaceAdditiveKernel\n",
    "from dak.kernels.matern_kernel import MaternKernel"
   ]
  },
  {
   "cell_type": "markdown",
   "metadata": {},
   "source": [
    "# Laplace kernel"
   ]
  },
  {
   "cell_type": "code",
   "execution_count": 4,
   "metadata": {},
   "outputs": [],
   "source": [
    "n = 2 # the size of x1\n",
    "m = 4 # the size of x2\n",
    "d = 1 # dimension of x1, x2\n",
    "x1 = torch.randn(n,d)\n",
    "x2 = torch.randn(m,d)\n",
    "lengthscale = torch.randn(d)\n",
    "print(x1)\n",
    "print(x2)"
   ]
  },
  {
   "cell_type": "code",
   "execution_count": 3,
   "metadata": {},
   "outputs": [],
   "source": [
    "kernel = LaplaceProductKernel(lengthscale=1.)\n",
    "kernel(x1=x1,x2=x2)"
   ]
  },
  {
   "cell_type": "code",
   "execution_count": 5,
   "metadata": {},
   "outputs": [],
   "source": [
    "x1 = torch.randn(3,10,2)\n",
    "x2 = torch.randn(6,2)\n",
    "lengthscale = torch.randn(2)\n",
    "kernel = LaplaceProductKernel(lengthscale=1.)\n",
    "kernel(x1=x1,x2=x2).shape"
   ]
  }
 ],
 "metadata": {
  "kernelspec": {
   "display_name": "env_sparse-dgp",
   "language": "python",
   "name": "python3"
  },
  "language_info": {
   "codemirror_mode": {
    "name": "ipython",
    "version": 3
   },
   "file_extension": ".py",
   "mimetype": "text/x-python",
   "name": "python",
   "nbconvert_exporter": "python",
   "pygments_lexer": "ipython3",
   "version": "3.9.18"
  }
 },
 "nbformat": 4,
 "nbformat_minor": 2
}
