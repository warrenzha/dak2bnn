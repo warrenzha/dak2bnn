{
 "cells": [
  {
   "cell_type": "code",
   "execution_count": 1,
   "metadata": {},
   "source": [
    "import os\n",
    "import sys\n",
    "from pathlib import Path # if you haven't already done so\n",
    "file = Path(os.path.dirname(os.path.abspath(\"__file__\"))).resolve()\n",
    "parent, root = file.parent, file.parents[1]\n",
    "sys.path.append(str(root))\n",
    "\n",
    "import torch\n",
    "from dak.utils.sparse_design.design_class import HyperbolicCrossDesign\n",
    "from dak.utils.sparse_design.design_class import SparseGridDesign\n",
    "from dak.kernels.laplace_kernel import LaplaceProductKernel\n",
    "from dak.utils.operators.chol_inv import mk_chol_inv, tmk_chol_inv"
   ],
   "outputs": []
  },
  {
   "cell_type": "markdown",
   "metadata": {},
   "source": [
    "# Cholesky inverse in one dimension"
   ]
  },
  {
   "cell_type": "code",
   "execution_count": 2,
   "metadata": {},
   "source": [
    "design_fun = HyperbolicCrossDesign(dyadic_sort=True, return_neighbors=True)\n",
    "deg = 3\n",
    "input_bd = [0,1]\n",
    "\n",
    "dyadic_design = design_fun(deg=deg, input_bd=input_bd)\n",
    "print(dyadic_design.points)\n",
    "print(dyadic_design.lefts)\n",
    "print(dyadic_design.rights)\n",
    "print(dyadic_design.indices_sort)\n",
    "\n",
    "markov_kernel = LaplaceProductKernel(lengthscale=1.)\n",
    "Rinv = mk_chol_inv(dyadic_design=dyadic_design, markov_kernel=markov_kernel, upper=True)"
   ],
   "outputs": []
  },
  {
   "cell_type": "code",
   "execution_count": 3,
   "metadata": {},
   "source": [
    "Rinv_dense = Rinv.to_dense()\n",
    "print(Rinv_dense[:, :5])"
   ],
   "outputs": []
  },
  {
   "cell_type": "code",
   "execution_count": 4,
   "metadata": {},
   "source": [
    "ker_input = dyadic_design.points\n",
    "K_true = markov_kernel(ker_input, ker_input)\n",
    "\n",
    "R_true = torch.linalg.cholesky(K_true, upper=True)\n",
    "Rinv_true = torch.linalg.inv(R_true)\n",
    "print(Rinv_true[:,:5])"
   ],
   "outputs": []
  },
  {
   "cell_type": "code",
   "execution_count": 5,
   "metadata": {},
   "source": [
    "print(torch.allclose(Rinv_dense, Rinv_true))\n",
    "print((Rinv_dense-Rinv_true).norm())"
   ],
   "outputs": []
  },
  {
   "cell_type": "code",
   "execution_count": 6,
   "metadata": {},
   "source": [
    "Kinv_true = torch.linalg.inv(K_true)\n",
    "print(Kinv_true[:5,:5])\n",
    "Kinv_sp = Rinv_dense @ Rinv_dense.T\n",
    "print(Kinv_sp[:5,:5])"
   ],
   "outputs": []
  },
  {
   "cell_type": "markdown",
   "metadata": {},
   "source": [
    "# Cholesky inverse for sparse grids"
   ]
  },
  {
   "cell_type": "code",
   "execution_count": 7,
   "metadata": {},
   "source": [
    "# initial setting\n",
    "d = 2 # dimension\n",
    "eta = 3 # level\n",
    "input_bd = [[0,1]]*d # None\n",
    "design_class = HyperbolicCrossDesign\n",
    "dyadic_sort = True\n",
    "indices_sort = True\n",
    "\n",
    "# generate sparse grid design\n",
    "sg = SparseGridDesign(d, eta, input_bd=input_bd, design_class=design_class).gen_sg(dyadic_sort=True, return_neighbors=True)\n",
    "sg.pts_set"
   ],
   "outputs": []
  },
  {
   "cell_type": "code",
   "execution_count": 8,
   "metadata": {},
   "source": [
    "tensor_markov_kernel = LaplaceProductKernel(lengthscale=1.)\n",
    "Rinv = tmk_chol_inv(sparse_grid_design=sg, \n",
    "                    tensor_markov_kernel=tensor_markov_kernel, \n",
    "                    upper = True)\n",
    "Rinv_dense = Rinv.to_dense()\n",
    "print(Rinv_dense)"
   ],
   "outputs": []
  },
  {
   "cell_type": "code",
   "execution_count": 9,
   "metadata": {},
   "source": [
    "ker_input = sg.pts_set\n",
    "K_true = tensor_markov_kernel(ker_input, ker_input)\n",
    "# print(K_true)\n",
    "\n",
    "R_true = torch.linalg.cholesky(K_true, upper=True)\n",
    "Rinv_true = torch.linalg.inv(R_true)\n",
    "print(Rinv_true)"
   ],
   "outputs": []
  },
  {
   "cell_type": "code",
   "execution_count": 10,
   "metadata": {},
   "source": [
    "Kinv_true = torch.linalg.inv(K_true)\n",
    "print(Kinv_true[:5,:5])\n",
    "\n",
    "Kinv_sp = Rinv_dense @ Rinv_dense.T\n",
    "print(Kinv_sp[:5,:5])"
   ],
   "outputs": []
  }
 ],
 "metadata": {
  "kernelspec": {
   "display_name": "env_sparse-dgp",
   "language": "python",
   "name": "python3"
  },
  "language_info": {
   "codemirror_mode": {
    "name": "ipython",
    "version": 3
   },
   "file_extension": ".py",
   "mimetype": "text/x-python",
   "name": "python",
   "nbconvert_exporter": "python",
   "pygments_lexer": "ipython3",
   "version": "3.9.18"
  }
 },
 "nbformat": 4,
 "nbformat_minor": 2
}
