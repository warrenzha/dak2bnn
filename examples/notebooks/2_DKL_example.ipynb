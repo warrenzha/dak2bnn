{
 "cells": [
  {
   "cell_type": "code",
   "id": "initial_id",
   "metadata": {
    "collapsed": true,
    "ExecuteTime": {
     "end_time": "2025-02-04T16:44:26.945700Z",
     "start_time": "2025-02-04T16:44:25.945578Z"
    }
   },
   "source": [
    "from torch import nn\n",
    "import torch\n",
    "import numpy as np\n",
    "import gpytorch"
   ],
   "outputs": [],
   "execution_count": 1
  },
  {
   "metadata": {
    "ExecuteTime": {
     "end_time": "2025-02-04T16:44:27.822765Z",
     "start_time": "2025-02-04T16:44:27.636299Z"
    }
   },
   "cell_type": "code",
   "source": [
    "from scipy.spatial.distance import cdist\n",
    "\n",
    "def squared_exponential_kernel(x1, x2, length_scale=1.0, sigma_f=1.0):\n",
    "    \"\"\"Compute the Squared Exponential (RBF) kernel between two sets of inputs.\"\"\"\n",
    "    sqdist = cdist(x1, x2, 'sqeuclidean')\n",
    "    return sigma_f**2 * np.exp(-0.5 / length_scale**2 * sqdist)\n",
    "\n",
    "np.random.seed(0)\n",
    "torch.manual_seed(10)\n",
    "\n",
    "# Training data is 200 points in [-7,7] inclusive regularly spaced\n",
    "num_samples = 20  # Number of samples to generate\n",
    "length_scale = 1.0  # Length scale of the SE kernel\n",
    "sigma_f = 1.0  # Signal variance\n",
    "\n",
    "# Generate input points and compute the covariance matrix using SE kernel\n",
    "train_x = np.linspace(-7, 7, num_samples).reshape(-1, 1)\n",
    "train_x_cov = squared_exponential_kernel(train_x, train_x, length_scale, sigma_f)\n",
    "# Generate zero-mean Gaussian data with the computed covariance matrix\n",
    "train_y = np.random.multivariate_normal(np.zeros(num_samples), train_x_cov) + 0.4 * np.random.randn(num_samples)\n",
    "\n",
    "x_tensor = torch.tensor(train_x, dtype=torch.float32).view(-1, 1)\n",
    "y_tensor = torch.tensor(train_y, dtype=torch.float32)\n",
    "\n",
    "num_test_samples = 200  # Number of samples to generate\n",
    "# Generate input points and compute the covariance matrix using SE kernel\n",
    "test_x = np.linspace(-12, 12, num_test_samples).reshape(-1, 1)\n",
    "test_x_cov = squared_exponential_kernel(test_x, test_x, length_scale, sigma_f)\n",
    "# Generate zero-mean Gaussian data with the computed covariance matrix\n",
    "test_y = np.random.multivariate_normal(np.zeros(num_test_samples), test_x_cov) + 0.1 * np.random.randn(num_test_samples)\n",
    "\n",
    "test_x_tensor = torch.tensor(test_x, dtype=torch.float32).view(-1, 1)\n",
    "test_y_tensor = torch.tensor(test_y, dtype=torch.float32)"
   ],
   "id": "383deb2157073c89",
   "outputs": [],
   "execution_count": 2
  },
  {
   "metadata": {
    "ExecuteTime": {
     "end_time": "2025-02-04T16:44:29.375013Z",
     "start_time": "2025-02-04T16:44:29.255285Z"
    }
   },
   "cell_type": "code",
   "source": [
    "class ExactGPModel(gpytorch.models.ExactGP):\n",
    "    def __init__(self, train_x, train_y, likelihood):\n",
    "        super(ExactGPModel, self).__init__(train_x, train_y, likelihood)\n",
    "        self.mean_module = gpytorch.means.ZeroMean()\n",
    "        self.covar_module = gpytorch.kernels.ScaleKernel(gpytorch.kernels.RBFKernel())\n",
    "\n",
    "    def forward(self, x):\n",
    "        mean_x = self.mean_module(x)\n",
    "        covar_x = self.covar_module(x)\n",
    "        return gpytorch.distributions.MultivariateNormal(mean_x, covar_x)\n",
    "\n",
    "# initialize likelihood and model\n",
    "gp_likelihood = gpytorch.likelihoods.GaussianLikelihood()\n",
    "gp_model = ExactGPModel(x_tensor.squeeze(), y_tensor, gp_likelihood)"
   ],
   "id": "47bbc4da88e2fea7",
   "outputs": [],
   "execution_count": 3
  },
  {
   "metadata": {
    "ExecuteTime": {
     "end_time": "2025-02-04T16:44:30.593786Z",
     "start_time": "2025-02-04T16:44:30.590466Z"
    }
   },
   "cell_type": "code",
   "source": [
    "class DNN(nn.Module):\n",
    "    def __init__(self, input_dim, output_dim):\n",
    "        super(DNN, self).__init__()\n",
    "        self.hidden = nn.Sequential(\n",
    "            nn.Linear(input_dim, 64),\n",
    "            nn.ReLU(),\n",
    "            nn.Linear(64, 32),\n",
    "            nn.ReLU(),\n",
    "            nn.Linear(32, output_dim)\n",
    "        )\n",
    "\n",
    "    def forward(self, x):\n",
    "        return self.hidden(x)"
   ],
   "id": "399a925e5257bcdc",
   "outputs": [],
   "execution_count": 4
  },
  {
   "metadata": {
    "ExecuteTime": {
     "end_time": "2025-02-04T16:44:31.707368Z",
     "start_time": "2025-02-04T16:44:31.701591Z"
    }
   },
   "cell_type": "code",
   "source": [
    "class GPRegressionModel(gpytorch.models.ExactGP):\n",
    "        def __init__(self, x_tensor, y_tensor, likelihood):\n",
    "            super(GPRegressionModel, self).__init__(x_tensor, y_tensor, likelihood)\n",
    "            self.mean_module = gpytorch.means.ConstantMean()\n",
    "            # self.mean_module = gpytorch.means.ZeroMean()\n",
    "            self.covar_module = gpytorch.kernels.GridInterpolationKernel(\n",
    "                gpytorch.kernels.ScaleKernel(gpytorch.kernels.RBFKernel(ard_num_dims=2)),\n",
    "                num_dims=2, \n",
    "                grid_size=32,\n",
    "            )\n",
    "            self.feature_extractor = DNN(input_dim=1, output_dim=2)\n",
    "\n",
    "            # This module will scale the NN features so that they're nice values\n",
    "            self.scale_to_bounds = gpytorch.utils.grid.ScaleToBounds(-1., 1.)\n",
    "\n",
    "        def forward(self, x):\n",
    "            # We're first putting our data through a deep net (feature extractor)\n",
    "            projected_x = self.feature_extractor(x)\n",
    "            projected_x = self.scale_to_bounds(projected_x)  # Make the NN values \"nice\"\n",
    "\n",
    "            mean_x = self.mean_module(projected_x)\n",
    "            covar_x = self.covar_module(projected_x)\n",
    "            return gpytorch.distributions.MultivariateNormal(mean_x, covar_x)\n",
    "        \n",
    "likelihood = gpytorch.likelihoods.GaussianLikelihood()\n",
    "dkl_model = GPRegressionModel(x_tensor, y_tensor, likelihood)"
   ],
   "id": "41846ffffe05d6d4",
   "outputs": [],
   "execution_count": 5
  },
  {
   "metadata": {
    "ExecuteTime": {
     "end_time": "2025-02-04T16:44:33.953329Z",
     "start_time": "2025-02-04T16:44:33.815546Z"
    }
   },
   "cell_type": "code",
   "source": [
    "from dak.utils.sparse_design.design_class import HyperbolicCrossDesign\n",
    "from dak.kernels.laplace_kernel import LaplaceProductKernel\n",
    "from dak.layers.functional import ScaleToBounds\n",
    "from dak.layers.activation import Amk1d\n",
    "from dak.layers.linear import LinearFlipout, LinearReparameterization\n",
    "\n",
    "class DAKMC(nn.Module):\n",
    "    def __init__(self, input_dim, output_dim, design_class, kernel):\n",
    "        super(DAKMC, self).__init__()\n",
    "\n",
    "        self.feature_extractor = DNN(input_dim=input_dim, output_dim=2)\n",
    "        self.norm = nn.BatchNorm1d(2)\n",
    "        self.mk1 = Amk1d(in_features=2, n_level=5, input_lb=-3., input_ub=3., design_class=design_class, kernel=kernel)\n",
    "        self.gp1 = LinearFlipout(self.mk1.out_features, output_dim)\n",
    "\n",
    "    def forward(self, x, return_kl=True):\n",
    "        x = self.feature_extractor(x)\n",
    "        x = self.norm(x)\n",
    "        x = self.mk1(x).flatten(1)\n",
    "        x, kl = self.gp1(x)\n",
    "        if return_kl:\n",
    "            return x, kl\n",
    "        else:\n",
    "            return x\n",
    "        \n",
    "dak_mc = DAKMC(input_dim=1, \n",
    "               output_dim=1, \n",
    "               design_class=HyperbolicCrossDesign, \n",
    "               kernel=LaplaceProductKernel(.3),\n",
    "               )"
   ],
   "id": "f42dfba2ebfbda8b",
   "outputs": [],
   "execution_count": 6
  },
  {
   "metadata": {
    "ExecuteTime": {
     "end_time": "2025-02-04T16:44:35.868525Z",
     "start_time": "2025-02-04T16:44:35.860616Z"
    }
   },
   "cell_type": "code",
   "source": [
    "class DAKCF(nn.Module):\n",
    "    def __init__(self, input_dim, output_dim, design_class, kernel):\n",
    "        super(DAKCF, self).__init__()\n",
    "\n",
    "        self.feature_extractor = DNN(input_dim=input_dim, output_dim=2)\n",
    "        self.norm = ScaleToBounds(-3., 3.)\n",
    "        self.mk1 = Amk1d(in_features=2, n_level=5, input_lb=-3., input_ub=3., design_class=design_class, kernel=kernel)\n",
    "        self.gp1 = LinearReparameterization(\n",
    "            in_features=[self.mk1.in_features, self.mk1.num_inducing],\n",
    "            out_features=output_dim,\n",
    "        )\n",
    "\n",
    "    def forward(self, x, return_kl=True):\n",
    "        x = self.feature_extractor(x)\n",
    "        x = self.norm(self.mk1(x))\n",
    "        res, kl = self.gp1(x, return_sampling=False)\n",
    "        if return_kl:\n",
    "            return res, kl\n",
    "        else:\n",
    "            return res\n",
    "        \n",
    "dak_cf = DAKCF(input_dim=1, \n",
    "               output_dim=1, \n",
    "               design_class=HyperbolicCrossDesign, \n",
    "               kernel=LaplaceProductKernel(.3),\n",
    "               )"
   ],
   "id": "c09eb992d69b4acd",
   "outputs": [],
   "execution_count": 7
  },
  {
   "metadata": {
    "ExecuteTime": {
     "end_time": "2025-02-04T16:44:37.688153Z",
     "start_time": "2025-02-04T16:44:37.684608Z"
    }
   },
   "cell_type": "code",
   "source": [
    "def train_gpr(model, criterion, optimizer, epochs=200):\n",
    "    losses = []\n",
    "    for epoch in range(epochs):\n",
    "        model.train()\n",
    "        # Zero backprop gradients\n",
    "        optimizer.zero_grad()\n",
    "        # Get output from model\n",
    "        output = model(x_tensor)\n",
    "        # Calc loss and backprop derivatives\n",
    "        loss = - criterion(output, y_tensor)\n",
    "        loss.backward()\n",
    "        optimizer.step()\n",
    "        \n",
    "        losses.append(loss.item())\n",
    "        if epoch % 100 == 0:\n",
    "            print(f'Epoch [{epoch}/{epochs}], Loss: {loss.item()}')\n",
    "            \n",
    "    return losses"
   ],
   "id": "38360e5f77fca70c",
   "outputs": [],
   "execution_count": 8
  },
  {
   "metadata": {
    "ExecuteTime": {
     "end_time": "2025-02-04T16:44:40.441098Z",
     "start_time": "2025-02-04T16:44:39.494824Z"
    }
   },
   "cell_type": "code",
   "source": [
    "gp_optimizer = torch.optim.Adam(gp_model.parameters(), lr=0.001)\n",
    "gp_criterion = gpytorch.mlls.ExactMarginalLogLikelihood(gp_likelihood, gp_model)\n",
    "\n",
    "gp_losses = train_gpr(gp_model, gp_criterion, gp_optimizer, epochs=500)"
   ],
   "id": "ea18df2e3641d109",
   "outputs": [
    {
     "name": "stdout",
     "output_type": "stream",
     "text": [
      "Epoch [0/500], Loss: 1.6272567510604858\n",
      "Epoch [100/500], Loss: 1.5926620960235596\n",
      "Epoch [200/500], Loss: 1.5580029487609863\n",
      "Epoch [300/500], Loss: 1.5240381956100464\n",
      "Epoch [400/500], Loss: 1.4914453029632568\n"
     ]
    }
   ],
   "execution_count": 9
  },
  {
   "metadata": {
    "ExecuteTime": {
     "end_time": "2025-02-04T16:44:46.522021Z",
     "start_time": "2025-02-04T16:44:43.843087Z"
    }
   },
   "cell_type": "code",
   "source": [
    "# Use the adam optimizer\n",
    "dkl_optimizer = torch.optim.Adam([\n",
    "    {'params': dkl_model.feature_extractor.parameters()},\n",
    "    {'params': dkl_model.covar_module.parameters(), 'lr': 0.001},\n",
    "    {'params': dkl_model.mean_module.parameters(), 'lr': 0.001},\n",
    "    {'params': dkl_model.likelihood.parameters()},\n",
    "], lr=0.01)\n",
    "\n",
    "# \"Loss\" for GPs - the marginal log likelihood\n",
    "dkl_criterion = gpytorch.mlls.ExactMarginalLogLikelihood(likelihood, dkl_model)\n",
    "\n",
    "dkl_losses = train_gpr(dkl_model, dkl_criterion, dkl_optimizer, epochs=500)"
   ],
   "id": "63e3d99897d85f4c",
   "outputs": [
    {
     "name": "stderr",
     "output_type": "stream",
     "text": [
      "/home/wez/miniconda3/envs/dak/lib/python3.10/site-packages/linear_operator/utils/interpolation.py:71: UserWarning: torch.sparse.SparseTensor(indices, values, shape, *, device=) is deprecated.  Please use torch.sparse_coo_tensor(indices, values, shape, dtype=, device=). (Triggered internally at /opt/conda/conda-bld/pytorch_1727971112454/work/torch/csrc/utils/tensor_new.cpp:651.)\n",
      "  summing_matrix = cls(summing_matrix_indices, summing_matrix_values, size)\n"
     ]
    },
    {
     "name": "stdout",
     "output_type": "stream",
     "text": [
      "Epoch [0/500], Loss: 1.7721397876739502\n",
      "Epoch [100/500], Loss: 1.5856530666351318\n",
      "Epoch [200/500], Loss: 1.297196626663208\n",
      "Epoch [300/500], Loss: 0.9713412523269653\n",
      "Epoch [400/500], Loss: 0.6670908331871033\n"
     ]
    }
   ],
   "execution_count": 10
  },
  {
   "metadata": {
    "ExecuteTime": {
     "end_time": "2025-02-04T16:44:53.252259Z",
     "start_time": "2025-02-04T16:44:53.248268Z"
    }
   },
   "cell_type": "code",
   "source": [
    "# Training loop\n",
    "def train_dak(model, criterion, optimizer, epochs=200, mc_sampling=True):\n",
    "    losses = []\n",
    "    for epoch in range(epochs):\n",
    "        model.train()\n",
    "        optimizer.zero_grad()\n",
    "        if mc_sampling:\n",
    "            output_ = []\n",
    "            kl_ = []\n",
    "            for mc_run in range(4):\n",
    "                output, kl = dak_mc(x_tensor)\n",
    "                output_.append(output)\n",
    "                kl_.append(kl)\n",
    "            output = torch.mean(torch.stack(output_), dim=0)\n",
    "            kl = torch.mean(torch.stack(kl_), dim=0)\n",
    "            loss = criterion(output, y_tensor.view(-1,1)) + kl / len(train_x)\n",
    "        else:\n",
    "            mean_var, kl = dak_cf(x_tensor)\n",
    "            output_mean = mean_var.mean\n",
    "            output_var = mean_var.var\n",
    "            loss = criterion(output_mean, y_tensor.view(-1,1), 0.1**2*torch.ones_like(output_mean)) + output_var.sum() + kl / len(train_x)\n",
    "        \n",
    "        loss.backward()\n",
    "        optimizer.step()\n",
    "        \n",
    "        losses.append(loss.item())\n",
    "        if epoch % 100 == 0:\n",
    "            print(f'Epoch [{epoch}/{epochs}], Loss: {loss.item()}')\n",
    "            \n",
    "    return losses"
   ],
   "id": "a71b2c8db9479ecd",
   "outputs": [],
   "execution_count": 11
  },
  {
   "metadata": {
    "ExecuteTime": {
     "end_time": "2025-02-04T16:44:57.182756Z",
     "start_time": "2025-02-04T16:44:55.718206Z"
    }
   },
   "cell_type": "code",
   "source": [
    "dak_mc_optimizer = torch.optim.Adam(dak_mc.parameters(), lr=0.01)\n",
    "dak_mc_criterion = nn.MSELoss()\n",
    "\n",
    "dak_mc_losses = train_dak(dak_mc, dak_mc_criterion, dak_mc_optimizer, epochs=500)"
   ],
   "id": "18eb78d846f8ba34",
   "outputs": [
    {
     "name": "stdout",
     "output_type": "stream",
     "text": [
      "Epoch [0/500], Loss: 2.404254674911499\n",
      "Epoch [100/500], Loss: 0.2430257350206375\n",
      "Epoch [200/500], Loss: 0.17881974577903748\n",
      "Epoch [300/500], Loss: 0.1315390169620514\n",
      "Epoch [400/500], Loss: 0.1105801910161972\n"
     ]
    }
   ],
   "execution_count": 12
  },
  {
   "metadata": {
    "ExecuteTime": {
     "end_time": "2025-02-04T16:44:58.858853Z",
     "start_time": "2025-02-04T16:44:58.855631Z"
    }
   },
   "cell_type": "code",
   "source": [
    "def evaluate_gpr(model, x, likelihood):\n",
    "    model.eval()\n",
    "    likelihood.eval()\n",
    "    \n",
    "    with torch.no_grad(), gpytorch.settings.fast_pred_var():\n",
    "        observed_pred = likelihood(model(x))\n",
    "    \n",
    "    mean = observed_pred.mean.numpy()\n",
    "    lower, upper = observed_pred.confidence_region()\n",
    "    \n",
    "    return mean, lower.numpy(), upper.numpy()"
   ],
   "id": "e8737aa926319c81",
   "outputs": [],
   "execution_count": 13
  },
  {
   "metadata": {
    "ExecuteTime": {
     "end_time": "2025-02-04T16:45:00.362618Z",
     "start_time": "2025-02-04T16:45:00.355951Z"
    }
   },
   "cell_type": "code",
   "source": "gp_pred_mean, gp_pred_lower, gp_pred_upper = evaluate_gpr(gp_model, test_x_tensor, gp_likelihood)",
   "id": "ce9850c43fbf3077",
   "outputs": [],
   "execution_count": 14
  },
  {
   "metadata": {
    "ExecuteTime": {
     "end_time": "2025-02-04T16:45:01.154598Z",
     "start_time": "2025-02-04T16:45:01.135272Z"
    }
   },
   "cell_type": "code",
   "source": "dkl_pred_mean, dkl_pred_lower, dkl_pred_upper = evaluate_gpr(dkl_model, test_x_tensor, likelihood)",
   "id": "3ee6a7a496bed531",
   "outputs": [],
   "execution_count": 15
  },
  {
   "metadata": {
    "ExecuteTime": {
     "end_time": "2025-02-04T16:45:02.432830Z",
     "start_time": "2025-02-04T16:45:02.428925Z"
    }
   },
   "cell_type": "code",
   "source": [
    "def evaluate_dak(model, x, mc_sampling=True):\n",
    "    model.eval()\n",
    "    \n",
    "    with torch.no_grad():\n",
    "        if mc_sampling:\n",
    "            predicts = []\n",
    "            for mc_run in range(10000):\n",
    "                output = model(x, return_kl=False)\n",
    "                predicts.append(output.cpu().data.numpy())\n",
    "                \n",
    "            pred_mean = np.mean(predicts, axis=0)\n",
    "            pred_std = np.std(predicts, axis=0)\n",
    "            lower = pred_mean - 2 * pred_std\n",
    "            upper = pred_mean + 2 * pred_std\n",
    "        else:\n",
    "            mean_var = model(x, return_kl=False)\n",
    "            pred_mean = mean_var.mean.cpu().numpy()\n",
    "            pred_std = mean_var.var.cpu().data.numpy()\n",
    "            lower = pred_mean - 2 * pred_std\n",
    "            upper = pred_mean + 2 * pred_std\n",
    "    \n",
    "    return pred_mean, lower.squeeze(), upper.squeeze()"
   ],
   "id": "8dc8067ded1b7985",
   "outputs": [],
   "execution_count": 16
  },
  {
   "metadata": {
    "ExecuteTime": {
     "end_time": "2025-02-04T16:45:06.844402Z",
     "start_time": "2025-02-04T16:45:04.107117Z"
    }
   },
   "cell_type": "code",
   "source": "dak_mc_pred_mean, dak_mc_pred_lower, dak_mc_pred_upper = evaluate_dak(dak_mc, test_x_tensor)",
   "id": "3aada9fdc240e579",
   "outputs": [],
   "execution_count": 17
  },
  {
   "metadata": {
    "ExecuteTime": {
     "end_time": "2025-02-04T16:45:07.632198Z",
     "start_time": "2025-02-04T16:45:07.404316Z"
    }
   },
   "cell_type": "code",
   "source": [
    "from matplotlib import pyplot as plt\n",
    "\n",
    "def plot(mean, lower, upper, legend=True, save_path=None):\n",
    "    # Initialize plot\n",
    "    f, ax = plt.subplots(1, 1, figsize=(4, 3))\n",
    "    \n",
    "    # Plot training data as black stars\n",
    "    ax.plot(x_tensor.numpy(), y_tensor.numpy(), 'k*')\n",
    "    \n",
    "    # Plot predictive means as blue line\n",
    "    ax.plot(test_x_tensor.numpy(), mean, 'b')\n",
    "    # Shade between the lower and upper confidence bounds\n",
    "    ax.fill_between(test_x_tensor.numpy().squeeze(), lower, upper, alpha=0.5)\n",
    "    ax.set_xlim([-12,12])\n",
    "    ax.set_ylim([-4, 4])\n",
    "    if legend:\n",
    "        ax.legend(['Observed Data', 'Mean', 'Confidence'])\n",
    "        \n",
    "    plt.savefig(save_path)"
   ],
   "id": "cc2b35d176808a2f",
   "outputs": [],
   "execution_count": 18
  },
  {
   "metadata": {
    "ExecuteTime": {
     "end_time": "2025-02-04T16:45:08.714419Z",
     "start_time": "2025-02-04T16:45:08.614416Z"
    }
   },
   "cell_type": "code",
   "source": "plot(gp_pred_mean, gp_pred_lower, gp_pred_upper, legend=False, save_path='results/toy_gp.pdf')",
   "id": "f048736c552436a",
   "outputs": [
    {
     "data": {
      "text/plain": [
       "<Figure size 400x300 with 1 Axes>"
      ],
      "image/png": "[encoded data removed]"
     },
     "metadata": {},
     "output_type": "display_data"
    }
   ],
   "execution_count": 19
  },
  {
   "metadata": {
    "ExecuteTime": {
     "end_time": "2025-02-04T16:45:13.189761Z",
     "start_time": "2025-02-04T16:45:13.130335Z"
    }
   },
   "cell_type": "code",
   "source": "plot(dkl_pred_mean, dkl_pred_lower, dkl_pred_upper, legend=False, save_path='results/toy_dkl.pdf')",
   "id": "c79613f9cabd2c38",
   "outputs": [
    {
     "data": {
      "text/plain": [
       "<Figure size 400x300 with 1 Axes>"
      ],
      "image/png": "[encoded data removed]"
     },
     "metadata": {},
     "output_type": "display_data"
    }
   ],
   "execution_count": 20
  },
  {
   "metadata": {
    "ExecuteTime": {
     "end_time": "2025-02-04T16:45:16.930357Z",
     "start_time": "2025-02-04T16:45:16.870205Z"
    }
   },
   "cell_type": "code",
   "source": "plot(dak_mc_pred_mean, dak_mc_pred_lower, dak_mc_pred_upper, legend=False, save_path='toy_dak_1.pdf')",
   "id": "b157e441e57353a6",
   "outputs": [
    {
     "data": {
      "text/plain": [
       "<Figure size 400x300 with 1 Axes>"
      ],
      "image/png": "[encoded data removed]"
     },
     "metadata": {},
     "output_type": "display_data"
    }
   ],
   "execution_count": 21
  }
 ],
 "metadata": {
  "kernelspec": {
   "display_name": "Python 3",
   "language": "python",
   "name": "python3"
  },
  "language_info": {
   "codemirror_mode": {
    "name": "ipython",
    "version": 2
   },
   "file_extension": ".py",
   "mimetype": "text/x-python",
   "name": "python",
   "nbconvert_exporter": "python",
   "pygments_lexer": "ipython2",
   "version": "2.7.6"
  }
 },
 "nbformat": 4,
 "nbformat_minor": 5
}
