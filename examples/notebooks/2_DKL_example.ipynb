{
 "cells": [
  {
   "cell_type": "code",
   "id": "initial_id",
   "metadata": {
    "collapsed": true,
    "ExecuteTime": {
     "end_time": "2024-10-09T18:55:29.927326Z",
     "start_time": "2024-10-09T18:55:28.773431Z"
    }
   },
   "source": [
    "from torch import nn\n",
    "import torch\n",
    "import numpy as np\n",
    "import gpytorch"
   ],
   "outputs": [],
   "execution_count": 1
  },
  {
   "metadata": {
    "ExecuteTime": {
     "end_time": "2024-10-09T18:55:32.238543Z",
     "start_time": "2024-10-09T18:55:32.131674Z"
    }
   },
   "cell_type": "code",
   "source": [
    "from scipy.spatial.distance import cdist\n",
    "\n",
    "def squared_exponential_kernel(x1, x2, length_scale=1.0, sigma_f=1.0):\n",
    "    \"\"\"Compute the Squared Exponential (RBF) kernel between two sets of inputs.\"\"\"\n",
    "    sqdist = cdist(x1, x2, 'sqeuclidean')\n",
    "    return sigma_f**2 * np.exp(-0.5 / length_scale**2 * sqdist)\n",
    "\n",
    "np.random.seed(0)\n",
    "torch.manual_seed(10)\n",
    "\n",
    "# Training data is 200 points in [-7,7] inclusive regularly spaced\n",
    "num_samples = 20  # Number of samples to generate\n",
    "length_scale = 1.0  # Length scale of the SE kernel\n",
    "sigma_f = 1.0  # Signal variance\n",
    "\n",
    "# Generate input points and compute the covariance matrix using SE kernel\n",
    "train_x = np.linspace(-7, 7, num_samples).reshape(-1, 1)\n",
    "train_x_cov = squared_exponential_kernel(train_x, train_x, length_scale, sigma_f)\n",
    "# Generate zero-mean Gaussian data with the computed covariance matrix\n",
    "train_y = np.random.multivariate_normal(np.zeros(num_samples), train_x_cov) + 0.4 * np.random.randn(num_samples)\n",
    "\n",
    "x_tensor = torch.tensor(train_x, dtype=torch.float32).view(-1, 1)\n",
    "y_tensor = torch.tensor(train_y, dtype=torch.float32)"
   ],
   "id": "383deb2157073c89",
   "outputs": [],
   "execution_count": 2
  },
  {
   "metadata": {
    "ExecuteTime": {
     "end_time": "2024-10-09T19:01:19.634713Z",
     "start_time": "2024-10-09T19:01:19.629094Z"
    }
   },
   "cell_type": "code",
   "source": [
    "class ExactGPModel(gpytorch.models.ExactGP):\n",
    "    def __init__(self, train_x, train_y, likelihood):\n",
    "        super(ExactGPModel, self).__init__(train_x, train_y, likelihood)\n",
    "        self.mean_module = gpytorch.means.ZeroMean()\n",
    "        self.covar_module = gpytorch.kernels.ScaleKernel(gpytorch.kernels.RBFKernel())\n",
    "\n",
    "    def forward(self, x):\n",
    "        mean_x = self.mean_module(x)\n",
    "        covar_x = self.covar_module(x)\n",
    "        return gpytorch.distributions.MultivariateNormal(mean_x, covar_x)\n",
    "\n",
    "# initialize likelihood and model\n",
    "gp_likelihood = gpytorch.likelihoods.GaussianLikelihood()\n",
    "gp_model = ExactGPModel(x_tensor.squeeze(), y_tensor, gp_likelihood)"
   ],
   "id": "47bbc4da88e2fea7",
   "outputs": [],
   "execution_count": 13
  },
  {
   "metadata": {
    "ExecuteTime": {
     "end_time": "2024-10-09T19:36:00.046207Z",
     "start_time": "2024-10-09T19:36:00.041200Z"
    }
   },
   "cell_type": "code",
   "source": [
    "class DNN(nn.Module):\n",
    "    def __init__(self, input_dim, output_dim):\n",
    "        super(DNN, self).__init__()\n",
    "        self.hidden = nn.Sequential(\n",
    "            nn.Linear(input_dim, 64),\n",
    "            nn.ReLU(),\n",
    "            nn.Linear(64, 32),\n",
    "            nn.ReLU(),\n",
    "            nn.Linear(32, output_dim)\n",
    "        )\n",
    "\n",
    "    def forward(self, x):\n",
    "        return self.hidden(x)"
   ],
   "id": "399a925e5257bcdc",
   "outputs": [],
   "execution_count": 20
  },
  {
   "metadata": {
    "ExecuteTime": {
     "end_time": "2024-10-09T19:36:01.772461Z",
     "start_time": "2024-10-09T19:36:01.766159Z"
    }
   },
   "cell_type": "code",
   "source": [
    "class GPRegressionModel(gpytorch.models.ExactGP):\n",
    "        def __init__(self, x_tensor, y_tensor, likelihood):\n",
    "            super(GPRegressionModel, self).__init__(x_tensor, y_tensor, likelihood)\n",
    "            self.mean_module = gpytorch.means.ConstantMean()\n",
    "            # self.mean_module = gpytorch.means.ZeroMean()\n",
    "            self.covar_module = gpytorch.kernels.GridInterpolationKernel(\n",
    "                gpytorch.kernels.ScaleKernel(gpytorch.kernels.RBFKernel(ard_num_dims=2)),\n",
    "                num_dims=2, \n",
    "                grid_size=32,\n",
    "            )\n",
    "            self.feature_extractor = DNN(input_dim=1, output_dim=2)\n",
    "\n",
    "            # This module will scale the NN features so that they're nice values\n",
    "            self.scale_to_bounds = gpytorch.utils.grid.ScaleToBounds(-1., 1.)\n",
    "\n",
    "        def forward(self, x):\n",
    "            # We're first putting our data through a deep net (feature extractor)\n",
    "            projected_x = self.feature_extractor(x)\n",
    "            projected_x = self.scale_to_bounds(projected_x)  # Make the NN values \"nice\"\n",
    "\n",
    "            mean_x = self.mean_module(projected_x)\n",
    "            covar_x = self.covar_module(projected_x)\n",
    "            return gpytorch.distributions.MultivariateNormal(mean_x, covar_x)\n",
    "        \n",
    "likelihood = gpytorch.likelihoods.GaussianLikelihood()\n",
    "dkl_model = GPRegressionModel(x_tensor, y_tensor, likelihood)"
   ],
   "id": "41846ffffe05d6d4",
   "outputs": [],
   "execution_count": 21
  },
  {
   "metadata": {
    "ExecuteTime": {
     "end_time": "2024-10-09T19:37:22.577132Z",
     "start_time": "2024-10-09T19:37:22.554264Z"
    }
   },
   "cell_type": "code",
   "source": [
    "from dak.utils.sparse_design.design_class import HyperbolicCrossDesign\n",
    "from dak.kernels.laplace_kernel import LaplaceProductKernel\n",
    "from dak.layers.functional import ScaleToBounds\n",
    "from dak.layers.activation import Amk1d\n",
    "from dak.layers.linear import LinearFlipout, LinearReparameterization\n",
    "\n",
    "class DAKMC(nn.Module):\n",
    "    def __init__(self, input_dim, output_dim, design_class, kernel):\n",
    "        super(DAKMC, self).__init__()\n",
    "\n",
    "        self.feature_extractor = DNN(input_dim=input_dim, output_dim=2)\n",
    "        self.norm = nn.BatchNorm1d(2)\n",
    "        self.mk1 = Amk1d(in_features=2, n_level=5, input_lb=-3., input_ub=3., design_class=design_class, kernel=kernel)\n",
    "        self.gp1 = LinearFlipout(self.mk1.out_features, output_dim)\n",
    "\n",
    "    def forward(self, x, return_kl=True):\n",
    "        x = self.feature_extractor(x)\n",
    "        x = self.norm(x)\n",
    "        x = self.mk1(x).flatten(1)\n",
    "        x, kl = self.gp1(x)\n",
    "        if return_kl:\n",
    "            return x, kl\n",
    "        else:\n",
    "            return x\n",
    "        \n",
    "dak_mc = DAKMC(input_dim=1, \n",
    "               output_dim=1, \n",
    "               design_class=HyperbolicCrossDesign, \n",
    "               kernel=LaplaceProductKernel(.3),\n",
    "               )"
   ],
   "id": "f42dfba2ebfbda8b",
   "outputs": [],
   "execution_count": 28
  },
  {
   "metadata": {
    "ExecuteTime": {
     "end_time": "2024-10-09T16:27:52.229497Z",
     "start_time": "2024-10-09T16:27:52.219890Z"
    }
   },
   "cell_type": "code",
   "source": [
    "class DAKCF(nn.Module):\n",
    "    def __init__(self, input_dim, output_dim, design_class, kernel):\n",
    "        super(DAKCF, self).__init__()\n",
    "\n",
    "        self.feature_extractor = DNN(input_dim=input_dim, output_dim=2)\n",
    "        self.norm = ScaleToBounds(-3., 3.)\n",
    "        self.mk1 = Amk1d(in_features=2, n_level=5, input_lb=-3., input_ub=3., design_class=design_class, kernel=kernel)\n",
    "        self.gp1 = LinearReparameterization(\n",
    "            in_features=[self.mk1.in_features, self.mk1.num_inducing],\n",
    "            out_features=output_dim,\n",
    "        )\n",
    "\n",
    "    def forward(self, x, return_kl=True):\n",
    "        x = self.feature_extractor(x)\n",
    "        x = self.norm(self.mk1(x))\n",
    "        res, kl = self.gp1(x, return_sampling=False)\n",
    "        if return_kl:\n",
    "            return res, kl\n",
    "        else:\n",
    "            return res\n",
    "        \n",
    "dak_cf = DAKCF(input_dim=1, \n",
    "               output_dim=1, \n",
    "               design_class=HyperbolicCrossDesign, \n",
    "               kernel=LaplaceProductKernel(1.),\n",
    "               )"
   ],
   "id": "c09eb992d69b4acd",
   "outputs": [],
   "execution_count": 6
  },
  {
   "metadata": {
    "ExecuteTime": {
     "end_time": "2024-10-09T19:36:07.903438Z",
     "start_time": "2024-10-09T19:36:07.897341Z"
    }
   },
   "cell_type": "code",
   "source": [
    "def train_gpr(model, criterion, optimizer, epochs=200):\n",
    "    losses = []\n",
    "    for epoch in range(epochs):\n",
    "        model.train()\n",
    "        # Zero backprop gradients\n",
    "        optimizer.zero_grad()\n",
    "        # Get output from model\n",
    "        output = model(x_tensor)\n",
    "        # Calc loss and backprop derivatives\n",
    "        loss = - criterion(output, y_tensor)\n",
    "        loss.backward()\n",
    "        optimizer.step()\n",
    "        \n",
    "        losses.append(loss.item())\n",
    "        if epoch % 100 == 0:\n",
    "            print(f'Epoch [{epoch}/{epochs}], Loss: {loss.item()}')\n",
    "            \n",
    "    return losses"
   ],
   "id": "38360e5f77fca70c",
   "outputs": [],
   "execution_count": 22
  },
  {
   "metadata": {
    "ExecuteTime": {
     "end_time": "2024-10-09T19:01:35.717610Z",
     "start_time": "2024-10-09T19:01:33.908307Z"
    }
   },
   "cell_type": "code",
   "source": [
    "gp_optimizer = torch.optim.Adam(gp_model.parameters(), lr=0.01)\n",
    "gp_criterion = gpytorch.mlls.ExactMarginalLogLikelihood(gp_likelihood, gp_model)\n",
    "\n",
    "gp_losses = train_gpr(gp_model, gp_criterion, gp_optimizer, epochs=1000)"
   ],
   "id": "ea18df2e3641d109",
   "outputs": [
    {
     "name": "stdout",
     "output_type": "stream",
     "text": [
      "Epoch [0/1000], Loss: 1.6272567510604858\n",
      "Epoch [100/1000], Loss: 1.3418806791305542\n",
      "Epoch [200/1000], Loss: 1.269173264503479\n",
      "Epoch [300/1000], Loss: 1.2566715478897095\n",
      "Epoch [400/1000], Loss: 1.2526781558990479\n",
      "Epoch [500/1000], Loss: 1.2511383295059204\n",
      "Epoch [600/1000], Loss: 1.2505018711090088\n",
      "Epoch [700/1000], Loss: 1.250234842300415\n",
      "Epoch [800/1000], Loss: 1.2501230239868164\n",
      "Epoch [900/1000], Loss: 1.2500783205032349\n"
     ]
    }
   ],
   "execution_count": 15
  },
  {
   "metadata": {
    "ExecuteTime": {
     "end_time": "2024-10-09T19:36:22.402651Z",
     "start_time": "2024-10-09T19:36:12.767664Z"
    }
   },
   "cell_type": "code",
   "source": [
    "# Use the adam optimizer\n",
    "dkl_optimizer = torch.optim.Adam([\n",
    "    {'params': dkl_model.feature_extractor.parameters()},\n",
    "    {'params': dkl_model.covar_module.parameters(), 'lr': 0.0001},\n",
    "    {'params': dkl_model.mean_module.parameters(), 'lr': 0.0001},\n",
    "    {'params': dkl_model.likelihood.parameters()},\n",
    "], lr=0.01)\n",
    "\n",
    "# \"Loss\" for GPs - the marginal log likelihood\n",
    "dkl_criterion = gpytorch.mlls.ExactMarginalLogLikelihood(likelihood, dkl_model)\n",
    "\n",
    "dkl_losses = train_gpr(dkl_model, dkl_criterion, dkl_optimizer, epochs=1000)"
   ],
   "id": "63e3d99897d85f4c",
   "outputs": [
    {
     "name": "stderr",
     "output_type": "stream",
     "text": [
      "C:\\Users\\wyzha\\anaconda3\\envs\\bnn\\Lib\\site-packages\\linear_operator\\utils\\interpolation.py:71: UserWarning: torch.sparse.SparseTensor(indices, values, shape, *, device=) is deprecated.  Please use torch.sparse_coo_tensor(indices, values, shape, dtype=, device=). (Triggered internally at C:\\cb\\pytorch_1000000000000\\work\\torch\\csrc\\utils\\tensor_new.cpp:620.)\n",
      "  summing_matrix = cls(summing_matrix_indices, summing_matrix_values, size)\n"
     ]
    },
    {
     "name": "stdout",
     "output_type": "stream",
     "text": [
      "Epoch [0/1000], Loss: 1.7721397876739502\n",
      "Epoch [100/1000], Loss: 1.6641781330108643\n",
      "Epoch [200/1000], Loss: 1.5456511974334717\n",
      "Epoch [300/1000], Loss: 1.231792688369751\n",
      "Epoch [400/1000], Loss: 0.7827706933021545\n",
      "Epoch [500/1000], Loss: 0.9164296388626099\n",
      "Epoch [600/1000], Loss: 0.7472411394119263\n",
      "Epoch [700/1000], Loss: 0.16614589095115662\n",
      "Epoch [800/1000], Loss: 0.6326338648796082\n",
      "Epoch [900/1000], Loss: 0.022571086883544922\n"
     ]
    }
   ],
   "execution_count": 23
  },
  {
   "metadata": {
    "ExecuteTime": {
     "end_time": "2024-10-09T19:37:13.873154Z",
     "start_time": "2024-10-09T19:37:13.868089Z"
    }
   },
   "cell_type": "code",
   "source": [
    "# Training loop\n",
    "def train_dak(model, criterion, optimizer, epochs=200, mc_sampling=True):\n",
    "    losses = []\n",
    "    for epoch in range(epochs):\n",
    "        model.train()\n",
    "        optimizer.zero_grad()\n",
    "        if mc_sampling:\n",
    "            output_ = []\n",
    "            kl_ = []\n",
    "            for mc_run in range(2):\n",
    "                output, kl = dak_mc(x_tensor)\n",
    "                output_.append(output)\n",
    "                kl_.append(kl)\n",
    "            output = torch.mean(torch.stack(output_), dim=0)\n",
    "            kl = torch.mean(torch.stack(kl_), dim=0)\n",
    "            loss = criterion(output, y_tensor.view(-1,1)) + kl / len(train_x)\n",
    "        else:\n",
    "            mean_var, kl = dak_cf(x_tensor)\n",
    "            output_mean = mean_var.mean\n",
    "            output_var = mean_var.var\n",
    "            loss = criterion(output_mean, y_tensor.view(-1,1), 0.1**2*torch.ones_like(output_mean)) + output_var.sum() + kl / len(train_x)\n",
    "        \n",
    "        loss.backward()\n",
    "        optimizer.step()\n",
    "        \n",
    "        losses.append(loss.item())\n",
    "        if epoch % 100 == 0:\n",
    "            print(f'Epoch [{epoch}/{epochs}], Loss: {loss.item()}')\n",
    "            \n",
    "    return losses"
   ],
   "id": "a71b2c8db9479ecd",
   "outputs": [],
   "execution_count": 26
  },
  {
   "metadata": {
    "ExecuteTime": {
     "end_time": "2024-10-09T19:37:34.637862Z",
     "start_time": "2024-10-09T19:37:30.410072Z"
    }
   },
   "cell_type": "code",
   "source": [
    "dak_mc_optimizer = torch.optim.Adam(dak_mc.parameters(), lr=0.01)\n",
    "dak_mc_criterion = nn.MSELoss()\n",
    "\n",
    "dak_mc_losses = train_dak(dak_mc, dak_mc_criterion, dak_mc_optimizer, epochs=1000)"
   ],
   "id": "18eb78d846f8ba34",
   "outputs": [
    {
     "name": "stdout",
     "output_type": "stream",
     "text": [
      "Epoch [0/1000], Loss: 2.671233654022217\n",
      "Epoch [100/1000], Loss: 0.26629191637039185\n",
      "Epoch [200/1000], Loss: 0.1820424497127533\n",
      "Epoch [300/1000], Loss: 0.1396535187959671\n",
      "Epoch [400/1000], Loss: 0.18825021386146545\n",
      "Epoch [500/1000], Loss: 0.20325857400894165\n",
      "Epoch [600/1000], Loss: 0.11550337076187134\n",
      "Epoch [700/1000], Loss: 0.15237250924110413\n",
      "Epoch [800/1000], Loss: 0.15988875925540924\n",
      "Epoch [900/1000], Loss: 0.11041149497032166\n"
     ]
    }
   ],
   "execution_count": 29
  },
  {
   "metadata": {
    "ExecuteTime": {
     "end_time": "2024-10-09T19:01:47.162024Z",
     "start_time": "2024-10-09T19:01:47.148560Z"
    }
   },
   "cell_type": "code",
   "source": [
    "from matplotlib import pyplot as plt\n",
    "\n",
    "num_samples = 200  # Number of samples to generate\n",
    "# Generate input points and compute the covariance matrix using SE kernel\n",
    "test_x = np.linspace(-12, 12, num_samples).reshape(-1, 1)\n",
    "test_x_cov = squared_exponential_kernel(test_x, test_x, length_scale, sigma_f)\n",
    "# Generate zero-mean Gaussian data with the computed covariance matrix\n",
    "test_y = np.random.multivariate_normal(np.zeros(num_samples), test_x_cov) + 0.1 * np.random.randn(num_samples)\n",
    "\n",
    "test_x_tensor = torch.tensor(test_x, dtype=torch.float32).view(-1, 1)\n",
    "test_y_tensor = torch.tensor(test_y, dtype=torch.float32)"
   ],
   "id": "87d1cdb3c2f970a0",
   "outputs": [],
   "execution_count": 16
  },
  {
   "metadata": {
    "ExecuteTime": {
     "end_time": "2024-10-09T19:01:49.360001Z",
     "start_time": "2024-10-09T19:01:49.354962Z"
    }
   },
   "cell_type": "code",
   "source": [
    "def evaluate_gpr(model, x, likelihood):\n",
    "    model.eval()\n",
    "    likelihood.eval()\n",
    "    \n",
    "    with torch.no_grad(), gpytorch.settings.fast_pred_var():\n",
    "        observed_pred = likelihood(model(x))\n",
    "    \n",
    "    mean = observed_pred.mean.numpy()\n",
    "    lower, upper = observed_pred.confidence_region()\n",
    "    \n",
    "    return mean, lower.numpy(), upper.numpy()"
   ],
   "id": "e8737aa926319c81",
   "outputs": [],
   "execution_count": 17
  },
  {
   "metadata": {
    "ExecuteTime": {
     "end_time": "2024-10-09T19:01:50.259819Z",
     "start_time": "2024-10-09T19:01:50.250435Z"
    }
   },
   "cell_type": "code",
   "source": "gp_pred_mean, gp_pred_lower, gp_pred_upper = evaluate_gpr(gp_model, test_x_tensor, gp_likelihood)",
   "id": "ce9850c43fbf3077",
   "outputs": [],
   "execution_count": 18
  },
  {
   "metadata": {
    "ExecuteTime": {
     "end_time": "2024-10-09T19:36:34.704022Z",
     "start_time": "2024-10-09T19:36:34.674276Z"
    }
   },
   "cell_type": "code",
   "source": "dkl_pred_mean, dkl_pred_lower, dkl_pred_upper = evaluate_gpr(dkl_model, test_x_tensor, likelihood)",
   "id": "3ee6a7a496bed531",
   "outputs": [],
   "execution_count": 24
  },
  {
   "metadata": {
    "ExecuteTime": {
     "end_time": "2024-10-09T19:37:41.071825Z",
     "start_time": "2024-10-09T19:37:41.067585Z"
    }
   },
   "cell_type": "code",
   "source": [
    "def evaluate_dak(model, x, mc_sampling=True):\n",
    "    model.eval()\n",
    "    \n",
    "    with torch.no_grad():\n",
    "        if mc_sampling:\n",
    "            predicts = []\n",
    "            for mc_run in range(20):\n",
    "                output = model(x, return_kl=False)\n",
    "                predicts.append(output.cpu().data.numpy())\n",
    "                \n",
    "            pred_mean = np.mean(predicts, axis=0)\n",
    "            pred_std = np.std(predicts, axis=0)\n",
    "            lower = pred_mean - 2 * pred_std\n",
    "            upper = pred_mean + 2 * pred_std\n",
    "        else:\n",
    "            mean_var = model(x, return_kl=False)\n",
    "            pred_mean = mean_var.mean.cpu().numpy()\n",
    "            pred_std = mean_var.var.cpu().data.numpy()\n",
    "            lower = pred_mean - 2 * pred_std\n",
    "            upper = pred_mean + 2 * pred_std\n",
    "    \n",
    "    return pred_mean, lower.squeeze(), upper.squeeze()"
   ],
   "id": "8dc8067ded1b7985",
   "outputs": [],
   "execution_count": 30
  },
  {
   "metadata": {
    "ExecuteTime": {
     "end_time": "2024-10-09T19:37:43.250433Z",
     "start_time": "2024-10-09T19:37:43.219029Z"
    }
   },
   "cell_type": "code",
   "source": [
    "dak_mc_pred_mean, dak_mc_pred_lower, dak_mc_pred_upper = evaluate_dak(dak_mc, test_x_tensor)\n",
    "# dak_cf_pred_mean, dak_cf_pred_lower, dak_cf_pred_upper = evaluate_dak(dak_cf, test_x_tensor, mc_sampling=False)"
   ],
   "id": "3aada9fdc240e579",
   "outputs": [],
   "execution_count": 31
  },
  {
   "metadata": {
    "ExecuteTime": {
     "end_time": "2024-10-09T18:58:50.006898Z",
     "start_time": "2024-10-09T18:58:50.002051Z"
    }
   },
   "cell_type": "code",
   "source": [
    "def plot(mean, lower, upper, legend=True, save_path=None):\n",
    "    # Initialize plot\n",
    "    f, ax = plt.subplots(1, 1, figsize=(4, 3))\n",
    "    \n",
    "    # Plot training data as black stars\n",
    "    ax.plot(x_tensor.numpy(), y_tensor.numpy(), 'k*')\n",
    "    \n",
    "    # Plot predictive means as blue line\n",
    "    ax.plot(test_x_tensor.numpy(), mean, 'b')\n",
    "    # Shade between the lower and upper confidence bounds\n",
    "    ax.fill_between(test_x_tensor.numpy().squeeze(), lower, upper, alpha=0.5)\n",
    "    ax.set_xlim([-12,12])\n",
    "    ax.set_ylim([-4, 4])\n",
    "    if legend:\n",
    "        ax.legend(['Observed Data', 'Mean', 'Confidence'])\n",
    "        \n",
    "    plt.savefig(save_path)"
   ],
   "id": "cc2b35d176808a2f",
   "outputs": [],
   "execution_count": 11
  },
  {
   "metadata": {
    "ExecuteTime": {
     "end_time": "2024-10-09T19:01:56.792381Z",
     "start_time": "2024-10-09T19:01:56.719518Z"
    }
   },
   "cell_type": "code",
   "source": "plot(gp_pred_mean, gp_pred_lower, gp_pred_upper, legend=False, save_path='toy_gp.pdf')",
   "id": "f048736c552436a",
   "outputs": [
    {
     "data": {
      "text/plain": [
       "<Figure size 400x300 with 1 Axes>"
      ],
      "image/png": "[encoded data removed]"
     },
     "metadata": {},
     "output_type": "display_data"
    }
   ],
   "execution_count": 19
  },
  {
   "metadata": {
    "ExecuteTime": {
     "end_time": "2024-10-09T19:36:41.794763Z",
     "start_time": "2024-10-09T19:36:41.722437Z"
    }
   },
   "cell_type": "code",
   "source": "plot(dkl_pred_mean, dkl_pred_lower, dkl_pred_upper, legend=False, save_path='toy_dkl.pdf')",
   "id": "c79613f9cabd2c38",
   "outputs": [
    {
     "data": {
      "text/plain": [
       "<Figure size 400x300 with 1 Axes>"
      ],
      "image/png": "[encoded data removed]"
     },
     "metadata": {},
     "output_type": "display_data"
    }
   ],
   "execution_count": 25
  },
  {
   "metadata": {
    "ExecuteTime": {
     "end_time": "2024-10-09T19:37:46.601986Z",
     "start_time": "2024-10-09T19:37:46.532170Z"
    }
   },
   "cell_type": "code",
   "source": "plot(dak_mc_pred_mean, dak_mc_pred_lower, dak_mc_pred_upper, legend=False, save_path='toy_dak.pdf')",
   "id": "b157e441e57353a6",
   "outputs": [
    {
     "data": {
      "text/plain": [
       "<Figure size 400x300 with 1 Axes>"
      ],
      "image/png": "[encoded data removed]"
     },
     "metadata": {},
     "output_type": "display_data"
    }
   ],
   "execution_count": 32
  },
  {
   "metadata": {
    "ExecuteTime": {
     "end_time": "2024-10-09T16:28:06.095432Z",
     "start_time": "2024-10-09T16:28:06.093194Z"
    }
   },
   "cell_type": "code",
   "source": "",
   "id": "d8f0709c1211f970",
   "outputs": [],
   "execution_count": 16
  }
 ],
 "metadata": {
  "kernelspec": {
   "display_name": "Python 3",
   "language": "python",
   "name": "python3"
  },
  "language_info": {
   "codemirror_mode": {
    "name": "ipython",
    "version": 2
   },
   "file_extension": ".py",
   "mimetype": "text/x-python",
   "name": "python",
   "nbconvert_exporter": "python",
   "pygments_lexer": "ipython2",
   "version": "2.7.6"
  }
 },
 "nbformat": 4,
 "nbformat_minor": 5
}
