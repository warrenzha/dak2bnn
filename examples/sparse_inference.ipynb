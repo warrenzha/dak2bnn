{
 "cells": [
  {
   "cell_type": "code",
   "id": "initial_id",
   "metadata": {
    "collapsed": true,
    "ExecuteTime": {
     "end_time": "2025-07-14T03:13:07.266160Z",
     "start_time": "2025-07-14T03:13:07.262878Z"
    }
   },
   "source": [
    "import time\n",
    "import torch\n",
    "import torch.nn as nn\n",
    "import torch.nn.functional as F"
   ],
   "outputs": [],
   "execution_count": 11
  },
  {
   "metadata": {
    "ExecuteTime": {
     "end_time": "2025-07-14T03:13:07.285331Z",
     "start_time": "2025-07-14T03:13:07.279280Z"
    }
   },
   "cell_type": "code",
   "source": [
    "# Example: 100 input features -> 10 output features\n",
    "width = 512\n",
    "linear = nn.Linear(width, width)\n",
    "\n",
    "# Input after activation (sparse)\n",
    "x = torch.zeros(width)\n",
    "x[5] = 0.8\n",
    "x[72] = 0.3\n",
    "\n",
    "start_time = time.time()\n",
    "x = F.relu(x)\n",
    "\n",
    "# 1. Get non-zero indices and values\n",
    "nonzero_indices = x.nonzero(as_tuple=True)[0]\n",
    "nonzero_values = x[nonzero_indices]  # shape: (k,)\n",
    "\n",
    "# 2. Select corresponding weight columns (W has shape [10, 100])\n",
    "W = linear.weight  # shape: [10, 100]\n",
    "W_selected = W[:, nonzero_indices]  # shape: [10, k]\n",
    "\n",
    "for i in range(100):\n",
    "    # 3. Compute output using only non-zero elements\n",
    "    # Equivalent to W[:, idx] @ x[idx] + b\n",
    "    output = W_selected @ nonzero_values + linear.bias  # shape: [10]\n",
    "\n",
    "end_time = time.time()\n",
    "print(output.shape)  # torch.Size([10])\n",
    "print(f'Time taken: {end_time - start_time}')\n",
    "\n",
    "\n",
    "start_time = time.time()\n",
    "x = F.relu(x)\n",
    "for i in range(100):\n",
    "    output = linear.forward(x)\n",
    "end_time = time.time()\n",
    "print(output.shape)  # torch.Size([10])\n",
    "print(f'Time taken: {end_time - start_time}')"
   ],
   "id": "51f9f7d3ca170207",
   "outputs": [
    {
     "name": "stdout",
     "output_type": "stream",
     "text": [
      "torch.Size([512])\n",
      "Time taken: 0.0006811618804931641\n",
      "torch.Size([512])\n",
      "Time taken: 0.0013890266418457031\n"
     ]
    }
   ],
   "execution_count": 12
  }
 ],
 "metadata": {
  "kernelspec": {
   "display_name": "Python 3",
   "language": "python",
   "name": "python3"
  },
  "language_info": {
   "codemirror_mode": {
    "name": "ipython",
    "version": 2
   },
   "file_extension": ".py",
   "mimetype": "text/x-python",
   "name": "python",
   "nbconvert_exporter": "python",
   "pygments_lexer": "ipython2",
   "version": "2.7.6"
  }
 },
 "nbformat": 4,
 "nbformat_minor": 5
}
